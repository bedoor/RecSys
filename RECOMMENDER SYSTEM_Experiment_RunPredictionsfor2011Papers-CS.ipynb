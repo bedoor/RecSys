{
 "metadata": {
  "name": "",
  "signature": "sha256:6cea342a0ca6b69c00ef15852c27b66fdd44c72cac7578bb3be678834d6a51a6"
 },
 "nbformat": 3,
 "nbformat_minor": 0,
 "worksheets": [
  {
   "cells": [
    {
     "cell_type": "code",
     "collapsed": false,
     "input": [
      "import numpy as np\n",
      "import pandas as pd"
     ],
     "language": "python",
     "metadata": {},
     "outputs": [],
     "prompt_number": 1
    },
    {
     "cell_type": "code",
     "collapsed": false,
     "input": [
      "field = \"CS\"\n",
      "Aindex = pd.read_csv(\"../data/\"+field+\"/\"+field+\"_Aindex.csv\")\n",
      "Vindex = pd.read_csv(\"../data/\"+field+\"/\"+field+\"_Vindex.csv\")\n",
      "data = pd.read_csv(\"../data/\"+field+\"/\"+field+\"_data.csv\")"
     ],
     "language": "python",
     "metadata": {},
     "outputs": [],
     "prompt_number": 2
    },
    {
     "cell_type": "code",
     "collapsed": false,
     "input": [
      "#ALL = pd.read_csv(\"../data/CompSciSelectedVenues.csv\", sep=\"\\t\")\n",
      "ALL = pd.read_csv(\"../data/\"+field+\"/\"+field+\"AIDPIDVIDANameVName.csv\")\n",
      "df2 = ALL[['AID','VID']].drop_duplicates().groupby('AID').count().reset_index().rename(columns={\"VID\":\"VCount\"})\n",
      "\n",
      "df2 = df2[df2['VCount']>=15]\n",
      "\n",
      "print df2['AID'].nunique()\n",
      "\n",
      "ALL = ALL[ALL.AID.isin(df2['AID'])]\n",
      "\n",
      "PC = pd.read_csv(\"../data/PapersVenuePubYearCitations.csv\")\n",
      "\n",
      "PC = PC[['PID','PubYear','Citations']]\n",
      "\n",
      "Temp = ALL[['PID','VID','VName','AID','AName']]\n",
      "\n",
      "Temp = Temp.merge(PC, on=\"PID\")"
     ],
     "language": "python",
     "metadata": {},
     "outputs": [
      {
       "output_type": "stream",
       "stream": "stdout",
       "text": [
        "8205\n"
       ]
      }
     ],
     "prompt_number": 3
    },
    {
     "cell_type": "code",
     "collapsed": false,
     "input": [
      "#extract publications published until 2010 for training\n",
      "year = 2010\n",
      "Temp = Temp[Temp['PubYear']<=year]"
     ],
     "language": "python",
     "metadata": {},
     "outputs": [],
     "prompt_number": 4
    },
    {
     "cell_type": "code",
     "collapsed": false,
     "input": [
      "Temp['PubAge'] = 2017 - Temp['PubYear']\n",
      "\n",
      "Temp['AnnualCitations'] = Temp['Citations'] / Temp['PubAge'] \n",
      "\n",
      "all_data = Temp.groupby(['AID','AName','VID','VName'])['AnnualCitations'].mean().reset_index(name='AvgAnnualCitations').sort_values(by='AvgAnnualCitations')\n",
      "\n",
      "data = pd.merge(data, all_data, how='inner', on=['AID','VID'])"
     ],
     "language": "python",
     "metadata": {},
     "outputs": [],
     "prompt_number": 6
    },
    {
     "cell_type": "code",
     "collapsed": false,
     "input": [
      "AIDMaxCit = data.groupby('AID')['AvgAnnualCitations'].max().reset_index(name=\"maxCitation\")\n",
      "\n",
      "data = data.merge(AIDMaxCit, on='AID') \n",
      "\n",
      "data['NormCitation'] = data['AvgAnnualCitations'] / data['maxCitation']\n",
      "\n",
      "data['NormCitation2'] = data['NormCitation']*100"
     ],
     "language": "python",
     "metadata": {},
     "outputs": [],
     "prompt_number": 7
    },
    {
     "cell_type": "code",
     "collapsed": false,
     "input": [
      "#for specific data separation of test vs train. 5 rankings from each author for testing purposes.\n",
      "\n",
      "#extract 2 rankings for each author as the test data\n",
      "test = data.groupby('AID', as_index=False).apply(lambda x: x.sample(n=2, replace=True)).reset_index(drop=True)\n",
      "print test.shape\n",
      "\n",
      "#all remaining data is for training purposes\n",
      "train= pd.merge(data, test, how='outer', indicator=True).query(\"_merge == 'left_only'\").drop('_merge',1)\n",
      "\n",
      "print train.shape"
     ],
     "language": "python",
     "metadata": {},
     "outputs": [
      {
       "output_type": "stream",
       "stream": "stdout",
       "text": [
        "(16410, 13)\n",
        "(107649, 13)"
       ]
      },
      {
       "output_type": "stream",
       "stream": "stdout",
       "text": [
        "\n"
       ]
      }
     ],
     "prompt_number": 8
    },
    {
     "cell_type": "code",
     "collapsed": false,
     "input": [
      "##### FOR AVG CITATIONS RATING ########\n",
      "n_venues = max(train['Vindex'].max(), test['Vindex'].max()) + 1\n",
      "n_authors = max(train['Aindex'].max(), test['Aindex'].max()) + 1\n",
      "\n",
      "#Calc vars of matrices  \n",
      "Rrows, Rcols = (n_authors, n_venues)\n",
      "print Rrows, Rcols\n",
      "\n",
      "Rx = train['Aindex'].values#.astype(int)\n",
      "Ry = train['Vindex'].values#.astype(int)\n",
      "#Rdata = train['NormCitation2'].values \n",
      "Rdata = train['NormCitation'].values \n",
      "         \n",
      "Trows, Tcols = (n_authors, n_venues)\n",
      "\n",
      "Tx = test['Aindex'].values\n",
      "Ty = test['Vindex'].values\n",
      "#Tdata = test['NormCitation2'].values\n",
      "Tdata = test['NormCitation'].values"
     ],
     "language": "python",
     "metadata": {},
     "outputs": [
      {
       "output_type": "stream",
       "stream": "stdout",
       "text": [
        "8205 1240\n"
       ]
      }
     ],
     "prompt_number": 9
    },
    {
     "cell_type": "code",
     "collapsed": false,
     "input": [
      "#recreate R and T matrices\n",
      "R = np.zeros((Rrows, Rcols))\n",
      "for i,j,k in zip(Rx,Ry,Rdata):\n",
      "    if k>0:\n",
      "        R[i,j] = k\n",
      "    \n",
      "T = np.zeros((Trows, Tcols))\n",
      "for i,j,k in zip(Tx,Ty,Tdata):\n",
      "    if k>0:\n",
      "        T[i,j] = k"
     ],
     "language": "python",
     "metadata": {},
     "outputs": [],
     "prompt_number": 10
    },
    {
     "cell_type": "code",
     "collapsed": false,
     "input": [
      "# Index matrix for training data\n",
      "I = R.copy()\n",
      "I[I > 0] = 1\n",
      "I[I == 0] = 0\n",
      "\n",
      "# Index matrix for test data\n",
      "I2 = T.copy()\n",
      "I2[I2 > 0] = 1\n",
      "I2[I2 == 0] = 0"
     ],
     "language": "python",
     "metadata": {},
     "outputs": [],
     "prompt_number": 11
    },
    {
     "cell_type": "code",
     "collapsed": false,
     "input": [
      "# Predict the unknown ratings through the dot product of the latent features for users and items \n",
      "def prediction(P,Q):\n",
      "    return np.dot(P.T,Q)\n",
      "\n",
      "def predictionBias(P,Q,mu, bu, bi):\n",
      "    return mu + bu + bi + np.dot(P.T,Q)\n",
      "\n",
      "def predictionBias2(P,Q,mu, bu, bi):\n",
      "    return mu + np.vstack(bu) + bi + np.dot(P.T,Q)\n",
      "\n",
      "# Calculate the RMSE\n",
      "def rmse(I,R,Q,P):\n",
      "    return np.sqrt(np.sum((I * (R - prediction(P,Q)))**2)/len(R[R > 0]))\n",
      "\n",
      "def rmseBias(I,R,Q,P,mu,bu,bi):\n",
      "    #return np.sqrt(np.sum((I * (R - predictionBias(P,Q,mu, bu, bi)))**2)/len(R[R > 0]))\n",
      "     \n",
      "    return np.sqrt(np.sum((I * (R - mu - bi - np.vstack(bu) - prediction(P,Q)))**2)/len(R[R > 0]))"
     ],
     "language": "python",
     "metadata": {},
     "outputs": [],
     "prompt_number": 12
    },
    {
     "cell_type": "code",
     "collapsed": false,
     "input": [
      "#################### For Citation RATING ###########################\n",
      "\n",
      "##### COMPUTER SCIENCE ####\n",
      "\n",
      "lmbda = 0.2 # Regularisation weight \n",
      "k = 20  # Dimension of the latent feature space\n",
      "m, n = R.shape  # Number of users and items\n",
      "n_epochs = 10000 # Number of epochs\n",
      "gamma= 0.00005  # Learning rate  \n",
      "\n",
      "lmbda2 = 0.2 #Regularisation weight for biases\n",
      "gamma2 = 0.00005 # Learning rate for biases \n",
      "\n",
      "\n",
      "P = np.random.rand(k,m) # Latent author feature matrix\n",
      "Q = np.random.rand(k,n) # Latent venue feature matrix\n",
      "bu = np.zeros(m)            # Bias vector users\n",
      "bi = np.zeros(n)            # Bias vector items\n",
      "\n",
      "\n",
      "# mu  is overall average rating\n",
      "mu = (sum(Rdata) + sum(Tdata)) / (float(len(Rdata)) + float(len(Tdata)))\n",
      "\n",
      "train_errors = []\n",
      "test_errors = []\n",
      "\n",
      "#Only consider non-zero matrix \n",
      "authors,venues = R.nonzero()  \n",
      "\n",
      "old_train_rmse = 1000000\n",
      "old_test_rmse = 1000000\n",
      "\n",
      "for epoch in xrange(n_epochs):\n",
      "    #print epoch\n",
      "    for u, i in zip(authors,venues):\n",
      "        e = R[u, i] - predictionBias(P[:,u],Q[:,i],mu,bu[u],bi[i])  # Calculate error for gradient\n",
      "        P[:,u] += gamma * ( e * Q[:,i] - lmbda * P[:,u]) # Update latent user feature matrix\n",
      "        Q[:,i] += gamma * ( e * P[:,u] - lmbda * Q[:,i])  # Update latent movie feature matrix\n",
      "        bu[u] += gamma2 * (e - lmbda2 * bu[u])\n",
      "        bi[i] += gamma2 * (e - lmbda2 * bi[i])\n",
      "    Q = np.nan_to_num(Q)\n",
      "    P = np.nan_to_num(P)\n",
      "    train_rmse = rmseBias(I,R,Q,P,mu,bu,bi) # Calculate root mean squared error from train dataset\n",
      "    test_rmse = rmseBias(I2,T,Q,P,mu,bu,bi) # Calculate root mean squared error from test dataset\n",
      "    train_errors.append(train_rmse)\n",
      "    test_errors.append(test_rmse)\n",
      "    if epoch%10==0:\n",
      "        print epoch\n",
      "        print \"train RMSE: \", train_rmse\n",
      "        print \"test RMSE: \", test_rmse\n",
      "    \n",
      "    if test_rmse > old_test_rmse:\n",
      "        break\n",
      "    old_test_rmse = test_rmse\n",
      "    \n",
      "    if train_rmse > old_train_rmse:\n",
      "        break\n",
      "    old_train_rmse = train_rmse\n",
      "    \n",
      "print P"
     ],
     "language": "python",
     "metadata": {},
     "outputs": [
      {
       "output_type": "stream",
       "stream": "stdout",
       "text": [
        "0\n",
        "train RMSE:  4.59019620226\n",
        "test RMSE:  4.57276514984\n",
        "10"
       ]
      },
      {
       "output_type": "stream",
       "stream": "stdout",
       "text": [
        "\n",
        "train RMSE:  2.70064213864\n",
        "test RMSE:  2.72591998625\n",
        "20"
       ]
      },
      {
       "output_type": "stream",
       "stream": "stdout",
       "text": [
        "\n",
        "train RMSE:  2.05658431631\n",
        "test RMSE:  2.09836151908\n",
        "30"
       ]
      },
      {
       "output_type": "stream",
       "stream": "stdout",
       "text": [
        "\n",
        "train RMSE:  1.69726294229\n",
        "test RMSE:  1.74842327027\n",
        "40"
       ]
      },
      {
       "output_type": "stream",
       "stream": "stdout",
       "text": [
        "\n",
        "train RMSE:  1.46103457877\n",
        "test RMSE:  1.51865017414\n",
        "50"
       ]
      },
      {
       "output_type": "stream",
       "stream": "stdout",
       "text": [
        "\n",
        "train RMSE:  1.29143837794\n",
        "test RMSE:  1.35397625208\n",
        "60"
       ]
      },
      {
       "output_type": "stream",
       "stream": "stdout",
       "text": [
        "\n",
        "train RMSE:  1.16276433274\n",
        "test RMSE:  1.22926110993\n",
        "70"
       ]
      },
      {
       "output_type": "stream",
       "stream": "stdout",
       "text": [
        "\n",
        "train RMSE:  1.06135993417\n",
        "test RMSE:  1.13112420474\n",
        "80"
       ]
      },
      {
       "output_type": "stream",
       "stream": "stdout",
       "text": [
        "\n",
        "train RMSE:  0.979190620642\n",
        "test RMSE:  1.05168493988\n",
        "90"
       ]
      },
      {
       "output_type": "stream",
       "stream": "stdout",
       "text": [
        "\n",
        "train RMSE:  0.9111675093\n",
        "test RMSE:  0.985956813324\n",
        "100"
       ]
      },
      {
       "output_type": "stream",
       "stream": "stdout",
       "text": [
        "\n",
        "train RMSE:  0.853885857832\n",
        "test RMSE:  0.930611512141\n",
        "110"
       ]
      },
      {
       "output_type": "stream",
       "stream": "stdout",
       "text": [
        "\n",
        "train RMSE:  0.804969452533\n",
        "test RMSE:  0.883333662824\n",
        "120"
       ]
      },
      {
       "output_type": "stream",
       "stream": "stdout",
       "text": [
        "\n",
        "train RMSE:  0.762703456598\n",
        "test RMSE:  0.842458257147\n",
        "130"
       ]
      },
      {
       "output_type": "stream",
       "stream": "stdout",
       "text": [
        "\n",
        "train RMSE:  0.725816196685\n",
        "test RMSE:  0.80675482166\n",
        "140"
       ]
      },
      {
       "output_type": "stream",
       "stream": "stdout",
       "text": [
        "\n",
        "train RMSE:  0.693343079856\n",
        "test RMSE:  0.775292868836\n",
        "150"
       ]
      },
      {
       "output_type": "stream",
       "stream": "stdout",
       "text": [
        "\n",
        "train RMSE:  0.664538314547\n",
        "test RMSE:  0.747354791201\n",
        "160"
       ]
      },
      {
       "output_type": "stream",
       "stream": "stdout",
       "text": [
        "\n",
        "train RMSE:  0.638815729604\n",
        "test RMSE:  0.722377659459\n",
        "170"
       ]
      },
      {
       "output_type": "stream",
       "stream": "stdout",
       "text": [
        "\n",
        "train RMSE:  0.615707981464\n",
        "test RMSE:  0.699913268722\n",
        "180"
       ]
      },
      {
       "output_type": "stream",
       "stream": "stdout",
       "text": [
        "\n",
        "train RMSE:  0.594837756633\n",
        "test RMSE:  0.679600058832\n",
        "190"
       ]
      },
      {
       "output_type": "stream",
       "stream": "stdout",
       "text": [
        "\n",
        "train RMSE:  0.575897015637\n",
        "test RMSE:  0.661142965757\n",
        "200"
       ]
      },
      {
       "output_type": "stream",
       "stream": "stdout",
       "text": [
        "\n",
        "train RMSE:  0.558631757397\n",
        "test RMSE:  0.644298693596\n",
        "210"
       ]
      },
      {
       "output_type": "stream",
       "stream": "stdout",
       "text": [
        "\n",
        "train RMSE:  0.542830653242\n",
        "test RMSE:  0.628864768164\n",
        "220"
       ]
      },
      {
       "output_type": "stream",
       "stream": "stdout",
       "text": [
        "\n",
        "train RMSE:  0.528316444163\n",
        "test RMSE:  0.614671277957\n",
        "230"
       ]
      },
      {
       "output_type": "stream",
       "stream": "stdout",
       "text": [
        "\n",
        "train RMSE:  0.514939344206\n",
        "test RMSE:  0.601574557289\n",
        "240"
       ]
      },
      {
       "output_type": "stream",
       "stream": "stdout",
       "text": [
        "\n",
        "train RMSE:  0.502571922238\n",
        "test RMSE:  0.589452294704\n",
        "250"
       ]
      },
      {
       "output_type": "stream",
       "stream": "stdout",
       "text": [
        "\n",
        "train RMSE:  0.491105088025\n",
        "test RMSE:  0.578199702177\n",
        "260"
       ]
      },
      {
       "output_type": "stream",
       "stream": "stdout",
       "text": [
        "\n",
        "train RMSE:  0.480444913396\n",
        "test RMSE:  0.567726484056\n",
        "270"
       ]
      },
      {
       "output_type": "stream",
       "stream": "stdout",
       "text": [
        "\n",
        "train RMSE:  0.470510092088\n",
        "test RMSE:  0.557954416161\n",
        "280"
       ]
      },
      {
       "output_type": "stream",
       "stream": "stdout",
       "text": [
        "\n",
        "train RMSE:  0.461229893126\n",
        "test RMSE:  0.548815395493\n",
        "290"
       ]
      },
      {
       "output_type": "stream",
       "stream": "stdout",
       "text": [
        "\n",
        "train RMSE:  0.452542499236\n",
        "test RMSE:  0.540249856619\n",
        "300"
       ]
      },
      {
       "output_type": "stream",
       "stream": "stdout",
       "text": [
        "\n",
        "train RMSE:  0.444393648307\n",
        "test RMSE:  0.532205476393\n",
        "310"
       ]
      },
      {
       "output_type": "stream",
       "stream": "stdout",
       "text": [
        "\n",
        "train RMSE:  0.43673551532\n",
        "test RMSE:  0.524636107376\n",
        "320"
       ]
      },
      {
       "output_type": "stream",
       "stream": "stdout",
       "text": [
        "\n",
        "train RMSE:  0.429525786547\n",
        "test RMSE:  0.517500894095\n",
        "330"
       ]
      },
      {
       "output_type": "stream",
       "stream": "stdout",
       "text": [
        "\n",
        "train RMSE:  0.422726888581\n",
        "test RMSE:  0.510763536545\n",
        "340"
       ]
      },
      {
       "output_type": "stream",
       "stream": "stdout",
       "text": [
        "\n",
        "train RMSE:  0.416305342851\n",
        "test RMSE:  0.504391673095\n",
        "350"
       ]
      },
      {
       "output_type": "stream",
       "stream": "stdout",
       "text": [
        "\n",
        "train RMSE:  0.41023122249\n",
        "test RMSE:  0.498356360805\n",
        "360"
       ]
      },
      {
       "output_type": "stream",
       "stream": "stdout",
       "text": [
        "\n",
        "train RMSE:  0.404477693154\n",
        "test RMSE:  0.492631635724\n",
        "370"
       ]
      },
      {
       "output_type": "stream",
       "stream": "stdout",
       "text": [
        "\n",
        "train RMSE:  0.399020623088\n",
        "test RMSE:  0.487194139178\n",
        "380"
       ]
      },
      {
       "output_type": "stream",
       "stream": "stdout",
       "text": [
        "\n",
        "train RMSE:  0.393838250597\n",
        "test RMSE:  0.482022798817\n",
        "390"
       ]
      },
      {
       "output_type": "stream",
       "stream": "stdout",
       "text": [
        "\n",
        "train RMSE:  0.388910899325\n",
        "test RMSE:  0.477098555308\n",
        "400"
       ]
      },
      {
       "output_type": "stream",
       "stream": "stdout",
       "text": [
        "\n",
        "train RMSE:  0.38422073355\n",
        "test RMSE:  0.47240412725\n",
        "410"
       ]
      },
      {
       "output_type": "stream",
       "stream": "stdout",
       "text": [
        "\n",
        "train RMSE:  0.379751547105\n",
        "test RMSE:  0.46792380824\n",
        "420"
       ]
      },
      {
       "output_type": "stream",
       "stream": "stdout",
       "text": [
        "\n",
        "train RMSE:  0.375488580671\n",
        "test RMSE:  0.463643291095\n",
        "430"
       ]
      },
      {
       "output_type": "stream",
       "stream": "stdout",
       "text": [
        "\n",
        "train RMSE:  0.371418363111\n",
        "test RMSE:  0.459549515089\n",
        "440"
       ]
      },
      {
       "output_type": "stream",
       "stream": "stdout",
       "text": [
        "\n",
        "train RMSE:  0.367528573246\n",
        "test RMSE:  0.455630532774\n",
        "450"
       ]
      },
      {
       "output_type": "stream",
       "stream": "stdout",
       "text": [
        "\n",
        "train RMSE:  0.363807919061\n",
        "test RMSE:  0.451875393533\n",
        "460"
       ]
      },
      {
       "output_type": "stream",
       "stream": "stdout",
       "text": [
        "\n",
        "train RMSE:  0.360246031862\n",
        "test RMSE:  0.448274041464\n",
        "470"
       ]
      },
      {
       "output_type": "stream",
       "stream": "stdout",
       "text": [
        "\n",
        "train RMSE:  0.356833373248\n",
        "test RMSE:  0.444817225578\n",
        "480"
       ]
      },
      {
       "output_type": "stream",
       "stream": "stdout",
       "text": [
        "\n",
        "train RMSE:  0.353561153139\n",
        "test RMSE:  0.441496420624\n",
        "490"
       ]
      },
      {
       "output_type": "stream",
       "stream": "stdout",
       "text": [
        "\n",
        "train RMSE:  0.35042125736\n",
        "test RMSE:  0.438303757099\n",
        "500"
       ]
      },
      {
       "output_type": "stream",
       "stream": "stdout",
       "text": [
        "\n",
        "train RMSE:  0.347406183503\n",
        "test RMSE:  0.435231959223\n",
        "510"
       ]
      },
      {
       "output_type": "stream",
       "stream": "stdout",
       "text": [
        "\n",
        "train RMSE:  0.344508983988\n",
        "test RMSE:  0.432274289848\n",
        "520"
       ]
      },
      {
       "output_type": "stream",
       "stream": "stdout",
       "text": [
        "\n",
        "train RMSE:  0.341723215395\n",
        "test RMSE:  0.429424501404\n",
        "530"
       ]
      },
      {
       "output_type": "stream",
       "stream": "stdout",
       "text": [
        "\n",
        "train RMSE:  0.339042893272\n",
        "test RMSE:  0.426676792128\n",
        "540"
       ]
      },
      {
       "output_type": "stream",
       "stream": "stdout",
       "text": [
        "\n",
        "train RMSE:  0.336462451749\n",
        "test RMSE:  0.424025766932\n",
        "550"
       ]
      },
      {
       "output_type": "stream",
       "stream": "stdout",
       "text": [
        "\n",
        "train RMSE:  0.333976707366\n",
        "test RMSE:  0.421466402324\n",
        "560"
       ]
      },
      {
       "output_type": "stream",
       "stream": "stdout",
       "text": [
        "\n",
        "train RMSE:  0.331580826607\n",
        "test RMSE:  0.418994014923\n",
        "570"
       ]
      },
      {
       "output_type": "stream",
       "stream": "stdout",
       "text": [
        "\n",
        "train RMSE:  0.329270296707\n",
        "test RMSE:  0.416604233129\n",
        "580"
       ]
      },
      {
       "output_type": "stream",
       "stream": "stdout",
       "text": [
        "\n",
        "train RMSE:  0.327040899356\n",
        "test RMSE:  0.414292971591\n",
        "590"
       ]
      },
      {
       "output_type": "stream",
       "stream": "stdout",
       "text": [
        "\n",
        "train RMSE:  0.324888686958\n",
        "test RMSE:  0.412056408157\n",
        "600"
       ]
      },
      {
       "output_type": "stream",
       "stream": "stdout",
       "text": [
        "\n",
        "train RMSE:  0.322809961171\n",
        "test RMSE:  0.409890963015\n",
        "610"
       ]
      },
      {
       "output_type": "stream",
       "stream": "stdout",
       "text": [
        "\n",
        "train RMSE:  0.320801253467\n",
        "test RMSE:  0.407793279808\n",
        "620"
       ]
      },
      {
       "output_type": "stream",
       "stream": "stdout",
       "text": [
        "\n",
        "train RMSE:  0.318859307499\n",
        "test RMSE:  0.405760208481\n",
        "630"
       ]
      },
      {
       "output_type": "stream",
       "stream": "stdout",
       "text": [
        "\n",
        "train RMSE:  0.316981063071\n",
        "test RMSE:  0.403788789702\n",
        "640"
       ]
      },
      {
       "output_type": "stream",
       "stream": "stdout",
       "text": [
        "\n",
        "train RMSE:  0.315163641558\n",
        "test RMSE:  0.401876240669\n",
        "650"
       ]
      },
      {
       "output_type": "stream",
       "stream": "stdout",
       "text": [
        "\n",
        "train RMSE:  0.313404332611\n",
        "test RMSE:  0.400019942176\n",
        "660"
       ]
      },
      {
       "output_type": "stream",
       "stream": "stdout",
       "text": [
        "\n",
        "train RMSE:  0.311700582019\n",
        "test RMSE:  0.3982174268\n",
        "670"
       ]
      },
      {
       "output_type": "stream",
       "stream": "stdout",
       "text": [
        "\n",
        "train RMSE:  0.310049980619\n",
        "test RMSE:  0.396466368102\n",
        "680"
       ]
      },
      {
       "output_type": "stream",
       "stream": "stdout",
       "text": [
        "\n",
        "train RMSE:  0.308450254141\n",
        "test RMSE:  0.394764570739\n",
        "690"
       ]
      },
      {
       "output_type": "stream",
       "stream": "stdout",
       "text": [
        "\n",
        "train RMSE:  0.306899253896\n",
        "test RMSE:  0.393109961397\n",
        "700"
       ]
      },
      {
       "output_type": "stream",
       "stream": "stdout",
       "text": [
        "\n",
        "train RMSE:  0.305394948239\n",
        "test RMSE:  0.39150058047\n",
        "710"
       ]
      },
      {
       "output_type": "stream",
       "stream": "stdout",
       "text": [
        "\n",
        "train RMSE:  0.303935414711\n",
        "test RMSE:  0.38993457441\n",
        "720"
       ]
      },
      {
       "output_type": "stream",
       "stream": "stdout",
       "text": [
        "\n",
        "train RMSE:  0.30251883282\n",
        "test RMSE:  0.388410188688\n",
        "730"
       ]
      },
      {
       "output_type": "stream",
       "stream": "stdout",
       "text": [
        "\n",
        "train RMSE:  0.301143477384\n",
        "test RMSE:  0.386925761311\n",
        "740"
       ]
      },
      {
       "output_type": "stream",
       "stream": "stdout",
       "text": [
        "\n",
        "train RMSE:  0.299807712391\n",
        "test RMSE:  0.385479716838\n",
        "750"
       ]
      },
      {
       "output_type": "stream",
       "stream": "stdout",
       "text": [
        "\n",
        "train RMSE:  0.298509985335\n",
        "test RMSE:  0.384070560857\n",
        "760"
       ]
      },
      {
       "output_type": "stream",
       "stream": "stdout",
       "text": [
        "\n",
        "train RMSE:  0.297248821977\n",
        "test RMSE:  0.38269687488\n",
        "770"
       ]
      },
      {
       "output_type": "stream",
       "stream": "stdout",
       "text": [
        "\n",
        "train RMSE:  0.296022821492\n",
        "test RMSE:  0.381357311618\n",
        "780"
       ]
      },
      {
       "output_type": "stream",
       "stream": "stdout",
       "text": [
        "\n",
        "train RMSE:  0.294830651988\n",
        "test RMSE:  0.380050590605\n",
        "790"
       ]
      },
      {
       "output_type": "stream",
       "stream": "stdout",
       "text": [
        "\n",
        "train RMSE:  0.293671046333\n",
        "test RMSE:  0.378775494138\n",
        "800"
       ]
      },
      {
       "output_type": "stream",
       "stream": "stdout",
       "text": [
        "\n",
        "train RMSE:  0.292542798298\n",
        "test RMSE:  0.377530863514\n",
        "810"
       ]
      },
      {
       "output_type": "stream",
       "stream": "stdout",
       "text": [
        "\n",
        "train RMSE:  0.291444758959\n",
        "test RMSE:  0.376315595529\n",
        "820"
       ]
      },
      {
       "output_type": "stream",
       "stream": "stdout",
       "text": [
        "\n",
        "train RMSE:  0.290375833367\n",
        "test RMSE:  0.375128639224\n",
        "830"
       ]
      },
      {
       "output_type": "stream",
       "stream": "stdout",
       "text": [
        "\n",
        "train RMSE:  0.289334977434\n",
        "test RMSE:  0.37396899286\n",
        "840"
       ]
      },
      {
       "output_type": "stream",
       "stream": "stdout",
       "text": [
        "\n",
        "train RMSE:  0.288321195041\n",
        "test RMSE:  0.372835701096\n",
        "850"
       ]
      },
      {
       "output_type": "stream",
       "stream": "stdout",
       "text": [
        "\n",
        "train RMSE:  0.287333535338\n",
        "test RMSE:  0.37172785236\n",
        "860"
       ]
      },
      {
       "output_type": "stream",
       "stream": "stdout",
       "text": [
        "\n",
        "train RMSE:  0.286371090225\n",
        "test RMSE:  0.370644576396\n",
        "870"
       ]
      },
      {
       "output_type": "stream",
       "stream": "stdout",
       "text": [
        "\n",
        "train RMSE:  0.285432991999\n",
        "test RMSE:  0.369585041974\n",
        "880"
       ]
      },
      {
       "output_type": "stream",
       "stream": "stdout",
       "text": [
        "\n",
        "train RMSE:  0.284518411159\n",
        "test RMSE:  0.368548454748\n",
        "890"
       ]
      },
      {
       "output_type": "stream",
       "stream": "stdout",
       "text": [
        "\n",
        "train RMSE:  0.283626554343\n",
        "test RMSE:  0.367534055255\n",
        "900"
       ]
      },
      {
       "output_type": "stream",
       "stream": "stdout",
       "text": [
        "\n",
        "train RMSE:  0.282756662409\n",
        "test RMSE:  0.366541117042\n",
        "910"
       ]
      },
      {
       "output_type": "stream",
       "stream": "stdout",
       "text": [
        "\n",
        "train RMSE:  0.281908008627\n",
        "test RMSE:  0.365568944908\n",
        "920"
       ]
      },
      {
       "output_type": "stream",
       "stream": "stdout",
       "text": [
        "\n",
        "train RMSE:  0.281079896988\n",
        "test RMSE:  0.364616873264\n",
        "930"
       ]
      },
      {
       "output_type": "stream",
       "stream": "stdout",
       "text": [
        "\n",
        "train RMSE:  0.280271660621\n",
        "test RMSE:  0.363684264587\n",
        "940"
       ]
      },
      {
       "output_type": "stream",
       "stream": "stdout",
       "text": [
        "\n",
        "train RMSE:  0.279482660301\n",
        "test RMSE:  0.362770507972\n",
        "950"
       ]
      },
      {
       "output_type": "stream",
       "stream": "stdout",
       "text": [
        "\n",
        "train RMSE:  0.278712283048\n",
        "test RMSE:  0.361875017775\n",
        "960"
       ]
      },
      {
       "output_type": "stream",
       "stream": "stdout",
       "text": [
        "\n",
        "train RMSE:  0.277959940816\n",
        "test RMSE:  0.360997232332\n",
        "970"
       ]
      },
      {
       "output_type": "stream",
       "stream": "stdout",
       "text": [
        "\n",
        "train RMSE:  0.277225069252\n",
        "test RMSE:  0.360136612758\n",
        "980"
       ]
      },
      {
       "output_type": "stream",
       "stream": "stdout",
       "text": [
        "\n",
        "train RMSE:  0.276507126534\n",
        "test RMSE:  0.359292641819\n",
        "990"
       ]
      },
      {
       "output_type": "stream",
       "stream": "stdout",
       "text": [
        "\n",
        "train RMSE:  0.275805592272\n",
        "test RMSE:  0.358464822863\n",
        "1000"
       ]
      },
      {
       "output_type": "stream",
       "stream": "stdout",
       "text": [
        "\n",
        "train RMSE:  0.275119966475\n",
        "test RMSE:  0.357652678822\n",
        "1010"
       ]
      },
      {
       "output_type": "stream",
       "stream": "stdout",
       "text": [
        "\n",
        "train RMSE:  0.274449768576\n",
        "test RMSE:  0.356855751261\n",
        "1020"
       ]
      },
      {
       "output_type": "stream",
       "stream": "stdout",
       "text": [
        "\n",
        "train RMSE:  0.273794536511\n",
        "test RMSE:  0.356073599491\n",
        "1030"
       ]
      },
      {
       "output_type": "stream",
       "stream": "stdout",
       "text": [
        "\n",
        "train RMSE:  0.273153825855\n",
        "test RMSE:  0.355305799726\n",
        "1040"
       ]
      },
      {
       "output_type": "stream",
       "stream": "stdout",
       "text": [
        "\n",
        "train RMSE:  0.272527208997\n",
        "test RMSE:  0.354551944288\n",
        "1050"
       ]
      },
      {
       "output_type": "stream",
       "stream": "stdout",
       "text": [
        "\n",
        "train RMSE:  0.271914274366\n",
        "test RMSE:  0.353811640858\n",
        "1060"
       ]
      },
      {
       "output_type": "stream",
       "stream": "stdout",
       "text": [
        "\n",
        "train RMSE:  0.271314625699\n",
        "test RMSE:  0.353084511765\n",
        "1070"
       ]
      },
      {
       "output_type": "stream",
       "stream": "stdout",
       "text": [
        "\n",
        "train RMSE:  0.270727881349\n",
        "test RMSE:  0.352370193317\n",
        "1080"
       ]
      },
      {
       "output_type": "stream",
       "stream": "stdout",
       "text": [
        "\n",
        "train RMSE:  0.270153673625\n",
        "test RMSE:  0.351668335163\n",
        "1090"
       ]
      },
      {
       "output_type": "stream",
       "stream": "stdout",
       "text": [
        "\n",
        "train RMSE:  0.269591648173\n",
        "test RMSE:  0.350978599698\n",
        "1100"
       ]
      },
      {
       "output_type": "stream",
       "stream": "stdout",
       "text": [
        "\n",
        "train RMSE:  0.269041463386\n",
        "test RMSE:  0.350300661489\n",
        "1110"
       ]
      },
      {
       "output_type": "stream",
       "stream": "stdout",
       "text": [
        "\n",
        "train RMSE:  0.268502789846\n",
        "test RMSE:  0.349634206738\n",
        "1120"
       ]
      },
      {
       "output_type": "stream",
       "stream": "stdout",
       "text": [
        "\n",
        "train RMSE:  0.267975309795\n",
        "test RMSE:  0.348978932771\n",
        "1130"
       ]
      },
      {
       "output_type": "stream",
       "stream": "stdout",
       "text": [
        "\n",
        "train RMSE:  0.267458716633\n",
        "test RMSE:  0.348334547552\n",
        "1140"
       ]
      },
      {
       "output_type": "stream",
       "stream": "stdout",
       "text": [
        "\n",
        "train RMSE:  0.266952714439\n",
        "test RMSE:  0.347700769228\n",
        "1150"
       ]
      },
      {
       "output_type": "stream",
       "stream": "stdout",
       "text": [
        "\n",
        "train RMSE:  0.266457017521\n",
        "test RMSE:  0.347077325686\n",
        "1160"
       ]
      },
      {
       "output_type": "stream",
       "stream": "stdout",
       "text": [
        "\n",
        "train RMSE:  0.265971349983\n",
        "test RMSE:  0.346463954144\n",
        "1170"
       ]
      },
      {
       "output_type": "stream",
       "stream": "stdout",
       "text": [
        "\n",
        "train RMSE:  0.265495445319\n",
        "test RMSE:  0.345860400754\n",
        "1180"
       ]
      },
      {
       "output_type": "stream",
       "stream": "stdout",
       "text": [
        "\n",
        "train RMSE:  0.265029046021\n",
        "test RMSE:  0.345266420232\n",
        "1190"
       ]
      },
      {
       "output_type": "stream",
       "stream": "stdout",
       "text": [
        "\n",
        "train RMSE:  0.264571903214\n",
        "test RMSE:  0.344681775495\n",
        "1200"
       ]
      },
      {
       "output_type": "stream",
       "stream": "stdout",
       "text": [
        "\n",
        "train RMSE:  0.264123776298\n",
        "test RMSE:  0.344106237333\n",
        "1210"
       ]
      },
      {
       "output_type": "stream",
       "stream": "stdout",
       "text": [
        "\n",
        "train RMSE:  0.263684432616\n",
        "test RMSE:  0.343539584078\n",
        "1220"
       ]
      },
      {
       "output_type": "stream",
       "stream": "stdout",
       "text": [
        "\n",
        "train RMSE:  0.263253647137\n",
        "test RMSE:  0.342981601302\n",
        "1230"
       ]
      },
      {
       "output_type": "stream",
       "stream": "stdout",
       "text": [
        "\n",
        "train RMSE:  0.262831202148\n",
        "test RMSE:  0.342432081526\n",
        "1240"
       ]
      },
      {
       "output_type": "stream",
       "stream": "stdout",
       "text": [
        "\n",
        "train RMSE:  0.262416886966\n",
        "test RMSE:  0.34189082394\n",
        "1250"
       ]
      },
      {
       "output_type": "stream",
       "stream": "stdout",
       "text": [
        "\n",
        "train RMSE:  0.262010497664\n",
        "test RMSE:  0.341357634138\n",
        "1260"
       ]
      },
      {
       "output_type": "stream",
       "stream": "stdout",
       "text": [
        "\n",
        "train RMSE:  0.261611836804\n",
        "test RMSE:  0.340832323868\n",
        "1270"
       ]
      },
      {
       "output_type": "stream",
       "stream": "stdout",
       "text": [
        "\n",
        "train RMSE:  0.261220713185\n",
        "test RMSE:  0.34031471079\n",
        "1280"
       ]
      },
      {
       "output_type": "stream",
       "stream": "stdout",
       "text": [
        "\n",
        "train RMSE:  0.260836941609\n",
        "test RMSE:  0.339804618245\n",
        "1290"
       ]
      },
      {
       "output_type": "stream",
       "stream": "stdout",
       "text": [
        "\n",
        "train RMSE:  0.260460342645\n",
        "test RMSE:  0.33930187504\n",
        "1300"
       ]
      },
      {
       "output_type": "stream",
       "stream": "stdout",
       "text": [
        "\n",
        "train RMSE:  0.260090742415\n",
        "test RMSE:  0.338806315233\n",
        "1310"
       ]
      },
      {
       "output_type": "stream",
       "stream": "stdout",
       "text": [
        "\n",
        "train RMSE:  0.259727972383\n",
        "test RMSE:  0.338317777939\n",
        "1320"
       ]
      },
      {
       "output_type": "stream",
       "stream": "stdout",
       "text": [
        "\n",
        "train RMSE:  0.259371869153\n",
        "test RMSE:  0.337836107135\n",
        "1330"
       ]
      },
      {
       "output_type": "stream",
       "stream": "stdout",
       "text": [
        "\n",
        "train RMSE:  0.259022274285\n",
        "test RMSE:  0.337361151482\n",
        "1340"
       ]
      },
      {
       "output_type": "stream",
       "stream": "stdout",
       "text": [
        "\n",
        "train RMSE:  0.258679034105\n",
        "test RMSE:  0.336892764144\n",
        "1350"
       ]
      },
      {
       "output_type": "stream",
       "stream": "stdout",
       "text": [
        "\n",
        "train RMSE:  0.258341999533\n",
        "test RMSE:  0.336430802631\n",
        "1360"
       ]
      },
      {
       "output_type": "stream",
       "stream": "stdout",
       "text": [
        "\n",
        "train RMSE:  0.258011025916\n",
        "test RMSE:  0.335975128631\n",
        "1370"
       ]
      },
      {
       "output_type": "stream",
       "stream": "stdout",
       "text": [
        "\n",
        "train RMSE:  0.257685972871\n",
        "test RMSE:  0.335525607863\n",
        "1380"
       ]
      },
      {
       "output_type": "stream",
       "stream": "stdout",
       "text": [
        "\n",
        "train RMSE:  0.257366704124\n",
        "test RMSE:  0.335082109927\n",
        "1390"
       ]
      },
      {
       "output_type": "stream",
       "stream": "stdout",
       "text": [
        "\n",
        "train RMSE:  0.257053087371\n",
        "test RMSE:  0.33464450817\n",
        "1400"
       ]
      },
      {
       "output_type": "stream",
       "stream": "stdout",
       "text": [
        "\n",
        "train RMSE:  0.256744994135\n",
        "test RMSE:  0.334212679546\n",
        "1410"
       ]
      },
      {
       "output_type": "stream",
       "stream": "stdout",
       "text": [
        "\n",
        "train RMSE:  0.256442299628\n",
        "test RMSE:  0.333786504494\n",
        "1420"
       ]
      },
      {
       "output_type": "stream",
       "stream": "stdout",
       "text": [
        "\n",
        "train RMSE:  0.256144882627\n",
        "test RMSE:  0.333365866809\n",
        "1430"
       ]
      },
      {
       "output_type": "stream",
       "stream": "stdout",
       "text": [
        "\n",
        "train RMSE:  0.255852625347\n",
        "test RMSE:  0.332950653532\n",
        "1440"
       ]
      },
      {
       "output_type": "stream",
       "stream": "stdout",
       "text": [
        "\n",
        "train RMSE:  0.255565413323\n",
        "test RMSE:  0.33254075483\n",
        "1450"
       ]
      },
      {
       "output_type": "stream",
       "stream": "stdout",
       "text": [
        "\n",
        "train RMSE:  0.255283135295\n",
        "test RMSE:  0.332136063891\n",
        "1460"
       ]
      },
      {
       "output_type": "stream",
       "stream": "stdout",
       "text": [
        "\n",
        "train RMSE:  0.255005683101\n",
        "test RMSE:  0.331736476824\n",
        "1470"
       ]
      },
      {
       "output_type": "stream",
       "stream": "stdout",
       "text": [
        "\n",
        "train RMSE:  0.25473295157\n",
        "test RMSE:  0.331341892552\n",
        "1480"
       ]
      },
      {
       "output_type": "stream",
       "stream": "stdout",
       "text": [
        "\n",
        "train RMSE:  0.254464838424\n",
        "test RMSE:  0.330952212723\n",
        "1490"
       ]
      },
      {
       "output_type": "stream",
       "stream": "stdout",
       "text": [
        "\n",
        "train RMSE:  0.254201244176\n",
        "test RMSE:  0.330567341616\n",
        "1500"
       ]
      },
      {
       "output_type": "stream",
       "stream": "stdout",
       "text": [
        "\n",
        "train RMSE:  0.253942072042\n",
        "test RMSE:  0.330187186053\n",
        "1510"
       ]
      },
      {
       "output_type": "stream",
       "stream": "stdout",
       "text": [
        "\n",
        "train RMSE:  0.253687227851\n",
        "test RMSE:  0.329811655315\n",
        "1520"
       ]
      },
      {
       "output_type": "stream",
       "stream": "stdout",
       "text": [
        "\n",
        "train RMSE:  0.253436619956\n",
        "test RMSE:  0.32944066106\n",
        "1530"
       ]
      },
      {
       "output_type": "stream",
       "stream": "stdout",
       "text": [
        "\n",
        "train RMSE:  0.253190159155\n",
        "test RMSE:  0.329074117246\n",
        "1540"
       ]
      },
      {
       "output_type": "stream",
       "stream": "stdout",
       "text": [
        "\n",
        "train RMSE:  0.252947758611\n",
        "test RMSE:  0.328711940056\n",
        "1550"
       ]
      },
      {
       "output_type": "stream",
       "stream": "stdout",
       "text": [
        "\n",
        "train RMSE:  0.252709333773\n",
        "test RMSE:  0.328354047826\n",
        "1560"
       ]
      },
      {
       "output_type": "stream",
       "stream": "stdout",
       "text": [
        "\n",
        "train RMSE:  0.252474802307\n",
        "test RMSE:  0.328000360975\n",
        "1570"
       ]
      },
      {
       "output_type": "stream",
       "stream": "stdout",
       "text": [
        "\n",
        "train RMSE:  0.25224408402\n",
        "test RMSE:  0.327650801939\n",
        "1580"
       ]
      },
      {
       "output_type": "stream",
       "stream": "stdout",
       "text": [
        "\n",
        "train RMSE:  0.252017100797\n",
        "test RMSE:  0.327305295109\n",
        "1590"
       ]
      },
      {
       "output_type": "stream",
       "stream": "stdout",
       "text": [
        "\n",
        "train RMSE:  0.251793776535\n",
        "test RMSE:  0.326963766764\n",
        "1600"
       ]
      },
      {
       "output_type": "stream",
       "stream": "stdout",
       "text": [
        "\n",
        "train RMSE:  0.251574037075\n",
        "test RMSE:  0.326626145017\n",
        "1610"
       ]
      },
      {
       "output_type": "stream",
       "stream": "stdout",
       "text": [
        "\n",
        "train RMSE:  0.251357810147\n",
        "test RMSE:  0.326292359755\n",
        "1620"
       ]
      },
      {
       "output_type": "stream",
       "stream": "stdout",
       "text": [
        "\n",
        "train RMSE:  0.251145025309\n",
        "test RMSE:  0.325962342586\n",
        "1630"
       ]
      },
      {
       "output_type": "stream",
       "stream": "stdout",
       "text": [
        "\n",
        "train RMSE:  0.250935613893\n",
        "test RMSE:  0.325636026782\n",
        "1640"
       ]
      },
      {
       "output_type": "stream",
       "stream": "stdout",
       "text": [
        "\n",
        "train RMSE:  0.250729508945\n",
        "test RMSE:  0.325313347235\n",
        "1650"
       ]
      },
      {
       "output_type": "stream",
       "stream": "stdout",
       "text": [
        "\n",
        "train RMSE:  0.25052664518\n",
        "test RMSE:  0.324994240401\n",
        "1660"
       ]
      },
      {
       "output_type": "stream",
       "stream": "stdout",
       "text": [
        "\n",
        "train RMSE:  0.250326958927\n",
        "test RMSE:  0.324678644255\n",
        "1670"
       ]
      },
      {
       "output_type": "stream",
       "stream": "stdout",
       "text": [
        "\n",
        "train RMSE:  0.25013038808\n",
        "test RMSE:  0.324366498246\n",
        "1680"
       ]
      },
      {
       "output_type": "stream",
       "stream": "stdout",
       "text": [
        "\n",
        "train RMSE:  0.249936872055\n",
        "test RMSE:  0.324057743255\n",
        "1690"
       ]
      },
      {
       "output_type": "stream",
       "stream": "stdout",
       "text": [
        "\n",
        "train RMSE:  0.249746351742\n",
        "test RMSE:  0.323752321547\n",
        "1700"
       ]
      },
      {
       "output_type": "stream",
       "stream": "stdout",
       "text": [
        "\n",
        "train RMSE:  0.249558769459\n",
        "test RMSE:  0.323450176734\n",
        "1710"
       ]
      },
      {
       "output_type": "stream",
       "stream": "stdout",
       "text": [
        "\n",
        "train RMSE:  0.249374068917\n",
        "test RMSE:  0.323151253735\n",
        "1720"
       ]
      },
      {
       "output_type": "stream",
       "stream": "stdout",
       "text": [
        "\n",
        "train RMSE:  0.24919219517\n",
        "test RMSE:  0.322855498739\n",
        "1730"
       ]
      },
      {
       "output_type": "stream",
       "stream": "stdout",
       "text": [
        "\n",
        "train RMSE:  0.249013094585\n",
        "test RMSE:  0.322562859164\n",
        "1740"
       ]
      },
      {
       "output_type": "stream",
       "stream": "stdout",
       "text": [
        "\n",
        "train RMSE:  0.248836714796\n",
        "test RMSE:  0.322273283625\n",
        "1750"
       ]
      },
      {
       "output_type": "stream",
       "stream": "stdout",
       "text": [
        "\n",
        "train RMSE:  0.248663004674\n",
        "test RMSE:  0.3219867219\n",
        "1760"
       ]
      },
      {
       "output_type": "stream",
       "stream": "stdout",
       "text": [
        "\n",
        "train RMSE:  0.248491914288\n",
        "test RMSE:  0.321703124896\n",
        "1770"
       ]
      },
      {
       "output_type": "stream",
       "stream": "stdout",
       "text": [
        "\n",
        "train RMSE:  0.24832339487\n",
        "test RMSE:  0.321422444615\n",
        "1780"
       ]
      },
      {
       "output_type": "stream",
       "stream": "stdout",
       "text": [
        "\n",
        "train RMSE:  0.248157398785\n",
        "test RMSE:  0.321144634125\n",
        "1790"
       ]
      },
      {
       "output_type": "stream",
       "stream": "stdout",
       "text": [
        "\n",
        "train RMSE:  0.247993879498\n",
        "test RMSE:  0.320869647533\n",
        "1800"
       ]
      },
      {
       "output_type": "stream",
       "stream": "stdout",
       "text": [
        "\n",
        "train RMSE:  0.247832791541\n",
        "test RMSE:  0.32059743995\n",
        "1810"
       ]
      },
      {
       "output_type": "stream",
       "stream": "stdout",
       "text": [
        "\n",
        "train RMSE:  0.247674090487\n",
        "test RMSE:  0.320327967467\n",
        "1820"
       ]
      },
      {
       "output_type": "stream",
       "stream": "stdout",
       "text": [
        "\n",
        "train RMSE:  0.247517732917\n",
        "test RMSE:  0.320061187127\n",
        "1830"
       ]
      },
      {
       "output_type": "stream",
       "stream": "stdout",
       "text": [
        "\n",
        "train RMSE:  0.247363676396\n",
        "test RMSE:  0.319797056902\n",
        "1840"
       ]
      },
      {
       "output_type": "stream",
       "stream": "stdout",
       "text": [
        "\n",
        "train RMSE:  0.247211879443\n",
        "test RMSE:  0.319535535661\n",
        "1850"
       ]
      },
      {
       "output_type": "stream",
       "stream": "stdout",
       "text": [
        "\n",
        "train RMSE:  0.247062301506\n",
        "test RMSE:  0.319276583151\n",
        "1860"
       ]
      },
      {
       "output_type": "stream",
       "stream": "stdout",
       "text": [
        "\n",
        "train RMSE:  0.246914902938\n",
        "test RMSE:  0.319020159974\n",
        "1870"
       ]
      },
      {
       "output_type": "stream",
       "stream": "stdout",
       "text": [
        "\n",
        "train RMSE:  0.24676964497\n",
        "test RMSE:  0.318766227559\n",
        "1880"
       ]
      },
      {
       "output_type": "stream",
       "stream": "stdout",
       "text": [
        "\n",
        "train RMSE:  0.246626489689\n",
        "test RMSE:  0.318514748145\n",
        "1890"
       ]
      },
      {
       "output_type": "stream",
       "stream": "stdout",
       "text": [
        "\n",
        "train RMSE:  0.246485400016\n",
        "test RMSE:  0.318265684758\n",
        "1900"
       ]
      },
      {
       "output_type": "stream",
       "stream": "stdout",
       "text": [
        "\n",
        "train RMSE:  0.24634633968\n",
        "test RMSE:  0.318019001187\n",
        "1910"
       ]
      },
      {
       "output_type": "stream",
       "stream": "stdout",
       "text": [
        "\n",
        "train RMSE:  0.246209273202\n",
        "test RMSE:  0.31777466197\n",
        "1920"
       ]
      },
      {
       "output_type": "stream",
       "stream": "stdout",
       "text": [
        "\n",
        "train RMSE:  0.246074165868\n",
        "test RMSE:  0.317532632369\n",
        "1930"
       ]
      },
      {
       "output_type": "stream",
       "stream": "stdout",
       "text": [
        "\n",
        "train RMSE:  0.245940983715\n",
        "test RMSE:  0.317292878356\n",
        "1940"
       ]
      },
      {
       "output_type": "stream",
       "stream": "stdout",
       "text": [
        "\n",
        "train RMSE:  0.245809693506\n",
        "test RMSE:  0.317055366591\n",
        "1950"
       ]
      },
      {
       "output_type": "stream",
       "stream": "stdout",
       "text": [
        "\n",
        "train RMSE:  0.245680262715\n",
        "test RMSE:  0.316820064404\n",
        "1960"
       ]
      },
      {
       "output_type": "stream",
       "stream": "stdout",
       "text": [
        "\n",
        "train RMSE:  0.245552659507\n",
        "test RMSE:  0.316586939783\n",
        "1970"
       ]
      },
      {
       "output_type": "stream",
       "stream": "stdout",
       "text": [
        "\n",
        "train RMSE:  0.245426852719\n",
        "test RMSE:  0.31635596135\n",
        "1980"
       ]
      },
      {
       "output_type": "stream",
       "stream": "stdout",
       "text": [
        "\n",
        "train RMSE:  0.245302811848\n",
        "test RMSE:  0.316127098352\n",
        "1990"
       ]
      },
      {
       "output_type": "stream",
       "stream": "stdout",
       "text": [
        "\n",
        "train RMSE:  0.245180507024\n",
        "test RMSE:  0.315900320641\n",
        "2000"
       ]
      },
      {
       "output_type": "stream",
       "stream": "stdout",
       "text": [
        "\n",
        "train RMSE:  0.245059909006\n",
        "test RMSE:  0.31567559866\n",
        "2010"
       ]
      },
      {
       "output_type": "stream",
       "stream": "stdout",
       "text": [
        "\n",
        "train RMSE:  0.244940989158\n",
        "test RMSE:  0.315452903427\n",
        "2020"
       ]
      },
      {
       "output_type": "stream",
       "stream": "stdout",
       "text": [
        "\n",
        "train RMSE:  0.244823719435\n",
        "test RMSE:  0.315232206525\n",
        "2030"
       ]
      },
      {
       "output_type": "stream",
       "stream": "stdout",
       "text": [
        "\n",
        "train RMSE:  0.24470807237\n",
        "test RMSE:  0.315013480084\n",
        "2040"
       ]
      },
      {
       "output_type": "stream",
       "stream": "stdout",
       "text": [
        "\n",
        "train RMSE:  0.244594021061\n",
        "test RMSE:  0.314796696767\n",
        "2050"
       ]
      },
      {
       "output_type": "stream",
       "stream": "stdout",
       "text": [
        "\n",
        "train RMSE:  0.244481539152\n",
        "test RMSE:  0.314581829762\n",
        "2060"
       ]
      },
      {
       "output_type": "stream",
       "stream": "stdout",
       "text": [
        "\n",
        "train RMSE:  0.244370600824\n",
        "test RMSE:  0.314368852765\n",
        "2070"
       ]
      },
      {
       "output_type": "stream",
       "stream": "stdout",
       "text": [
        "\n",
        "train RMSE:  0.24426118078\n",
        "test RMSE:  0.314157739967\n",
        "2080"
       ]
      },
      {
       "output_type": "stream",
       "stream": "stdout",
       "text": [
        "\n",
        "train RMSE:  0.244153254231\n",
        "test RMSE:  0.313948466047\n",
        "2090"
       ]
      },
      {
       "output_type": "stream",
       "stream": "stdout",
       "text": [
        "\n",
        "train RMSE:  0.244046796887\n",
        "test RMSE:  0.313741006157\n",
        "2100"
       ]
      },
      {
       "output_type": "stream",
       "stream": "stdout",
       "text": [
        "\n",
        "train RMSE:  0.243941784943\n",
        "test RMSE:  0.313535335909\n",
        "2110"
       ]
      },
      {
       "output_type": "stream",
       "stream": "stdout",
       "text": [
        "\n",
        "train RMSE:  0.243838195065\n",
        "test RMSE:  0.313331431369\n",
        "2120"
       ]
      },
      {
       "output_type": "stream",
       "stream": "stdout",
       "text": [
        "\n",
        "train RMSE:  0.243736004384\n",
        "test RMSE:  0.313129269043\n",
        "2130"
       ]
      },
      {
       "output_type": "stream",
       "stream": "stdout",
       "text": [
        "\n",
        "train RMSE:  0.243635190479\n",
        "test RMSE:  0.312928825866\n",
        "2140"
       ]
      },
      {
       "output_type": "stream",
       "stream": "stdout",
       "text": [
        "\n",
        "train RMSE:  0.24353573137\n",
        "test RMSE:  0.312730079196\n",
        "2150"
       ]
      },
      {
       "output_type": "stream",
       "stream": "stdout",
       "text": [
        "\n",
        "train RMSE:  0.243437605509\n",
        "test RMSE:  0.312533006799\n",
        "2160"
       ]
      },
      {
       "output_type": "stream",
       "stream": "stdout",
       "text": [
        "\n",
        "train RMSE:  0.243340791765\n",
        "test RMSE:  0.312337586845\n",
        "2170"
       ]
      },
      {
       "output_type": "stream",
       "stream": "stdout",
       "text": [
        "\n",
        "train RMSE:  0.243245269417\n",
        "test RMSE:  0.312143797893\n",
        "2180"
       ]
      },
      {
       "output_type": "stream",
       "stream": "stdout",
       "text": [
        "\n",
        "train RMSE:  0.243151018144\n",
        "test RMSE:  0.311951618889\n",
        "2190"
       ]
      },
      {
       "output_type": "stream",
       "stream": "stdout",
       "text": [
        "\n",
        "train RMSE:  0.243058018017\n",
        "test RMSE:  0.31176102915\n",
        "2200"
       ]
      },
      {
       "output_type": "stream",
       "stream": "stdout",
       "text": [
        "\n",
        "train RMSE:  0.242966249489\n",
        "test RMSE:  0.31157200836\n",
        "2210"
       ]
      },
      {
       "output_type": "stream",
       "stream": "stdout",
       "text": [
        "\n",
        "train RMSE:  0.242875693383\n",
        "test RMSE:  0.311384536561\n",
        "2220"
       ]
      },
      {
       "output_type": "stream",
       "stream": "stdout",
       "text": [
        "\n",
        "train RMSE:  0.242786330889\n",
        "test RMSE:  0.311198594146\n",
        "2230"
       ]
      },
      {
       "output_type": "stream",
       "stream": "stdout",
       "text": [
        "\n",
        "train RMSE:  0.242698143553\n",
        "test RMSE:  0.311014161848\n",
        "2240"
       ]
      },
      {
       "output_type": "stream",
       "stream": "stdout",
       "text": [
        "\n",
        "train RMSE:  0.242611113267\n",
        "test RMSE:  0.310831220734\n",
        "2250"
       ]
      },
      {
       "output_type": "stream",
       "stream": "stdout",
       "text": [
        "\n",
        "train RMSE:  0.242525222266\n",
        "test RMSE:  0.310649752201\n",
        "2260"
       ]
      },
      {
       "output_type": "stream",
       "stream": "stdout",
       "text": [
        "\n",
        "train RMSE:  0.242440453114\n",
        "test RMSE:  0.310469737964\n",
        "2270"
       ]
      },
      {
       "output_type": "stream",
       "stream": "stdout",
       "text": [
        "\n",
        "train RMSE:  0.242356788701\n",
        "test RMSE:  0.310291160049\n",
        "2280"
       ]
      },
      {
       "output_type": "stream",
       "stream": "stdout",
       "text": [
        "\n",
        "train RMSE:  0.242274212236\n",
        "test RMSE:  0.310114000792\n",
        "2290"
       ]
      },
      {
       "output_type": "stream",
       "stream": "stdout",
       "text": [
        "\n",
        "train RMSE:  0.242192707237\n",
        "test RMSE:  0.309938242825\n",
        "2300"
       ]
      },
      {
       "output_type": "stream",
       "stream": "stdout",
       "text": [
        "\n",
        "train RMSE:  0.242112257525\n",
        "test RMSE:  0.309763869075\n",
        "2310"
       ]
      },
      {
       "output_type": "stream",
       "stream": "stdout",
       "text": [
        "\n",
        "train RMSE:  0.242032847219\n",
        "test RMSE:  0.309590862755\n",
        "2320"
       ]
      },
      {
       "output_type": "stream",
       "stream": "stdout",
       "text": [
        "\n",
        "train RMSE:  0.241954460729\n",
        "test RMSE:  0.309419207358\n",
        "2330"
       ]
      },
      {
       "output_type": "stream",
       "stream": "stdout",
       "text": [
        "\n",
        "train RMSE:  0.241877082747\n",
        "test RMSE:  0.309248886654\n",
        "2340"
       ]
      },
      {
       "output_type": "stream",
       "stream": "stdout",
       "text": [
        "\n",
        "train RMSE:  0.241800698243\n",
        "test RMSE:  0.309079884678\n",
        "2350"
       ]
      },
      {
       "output_type": "stream",
       "stream": "stdout",
       "text": [
        "\n",
        "train RMSE:  0.24172529246\n",
        "test RMSE:  0.308912185731\n",
        "2360"
       ]
      },
      {
       "output_type": "stream",
       "stream": "stdout",
       "text": [
        "\n",
        "train RMSE:  0.241650850905\n",
        "test RMSE:  0.308745774372\n",
        "2370"
       ]
      },
      {
       "output_type": "stream",
       "stream": "stdout",
       "text": [
        "\n",
        "train RMSE:  0.241577359347\n",
        "test RMSE:  0.30858063541\n",
        "2380"
       ]
      },
      {
       "output_type": "stream",
       "stream": "stdout",
       "text": [
        "\n",
        "train RMSE:  0.241504803807\n",
        "test RMSE:  0.308416753902\n",
        "2390"
       ]
      },
      {
       "output_type": "stream",
       "stream": "stdout",
       "text": [
        "\n",
        "train RMSE:  0.241433170558\n",
        "test RMSE:  0.308254115149\n",
        "2400"
       ]
      },
      {
       "output_type": "stream",
       "stream": "stdout",
       "text": [
        "\n",
        "train RMSE:  0.241362446113\n",
        "test RMSE:  0.308092704684\n",
        "2410"
       ]
      },
      {
       "output_type": "stream",
       "stream": "stdout",
       "text": [
        "\n",
        "train RMSE:  0.241292617227\n",
        "test RMSE:  0.307932508278\n",
        "2420"
       ]
      },
      {
       "output_type": "stream",
       "stream": "stdout",
       "text": [
        "\n",
        "train RMSE:  0.241223670885\n",
        "test RMSE:  0.307773511925\n",
        "2430"
       ]
      },
      {
       "output_type": "stream",
       "stream": "stdout",
       "text": [
        "\n",
        "train RMSE:  0.241155594304\n",
        "test RMSE:  0.307615701843\n",
        "2440"
       ]
      },
      {
       "output_type": "stream",
       "stream": "stdout",
       "text": [
        "\n",
        "train RMSE:  0.241088374921\n",
        "test RMSE:  0.307459064469\n",
        "2450"
       ]
      },
      {
       "output_type": "stream",
       "stream": "stdout",
       "text": [
        "\n",
        "train RMSE:  0.241022000395\n",
        "test RMSE:  0.307303586454\n",
        "2460"
       ]
      },
      {
       "output_type": "stream",
       "stream": "stdout",
       "text": [
        "\n",
        "train RMSE:  0.240956458597\n",
        "test RMSE:  0.307149254657\n",
        "2470"
       ]
      },
      {
       "output_type": "stream",
       "stream": "stdout",
       "text": [
        "\n",
        "train RMSE:  0.240891737611\n",
        "test RMSE:  0.306996056142\n",
        "2480"
       ]
      },
      {
       "output_type": "stream",
       "stream": "stdout",
       "text": [
        "\n",
        "train RMSE:  0.240827825723\n",
        "test RMSE:  0.306843978178\n",
        "2490"
       ]
      },
      {
       "output_type": "stream",
       "stream": "stdout",
       "text": [
        "\n",
        "train RMSE:  0.240764711422\n",
        "test RMSE:  0.306693008227\n",
        "2500"
       ]
      },
      {
       "output_type": "stream",
       "stream": "stdout",
       "text": [
        "\n",
        "train RMSE:  0.240702383396\n",
        "test RMSE:  0.306543133946\n",
        "2510"
       ]
      },
      {
       "output_type": "stream",
       "stream": "stdout",
       "text": [
        "\n",
        "train RMSE:  0.240640830523\n",
        "test RMSE:  0.306394343182\n",
        "2520"
       ]
      },
      {
       "output_type": "stream",
       "stream": "stdout",
       "text": [
        "\n",
        "train RMSE:  0.240580041871\n",
        "test RMSE:  0.306246623969\n",
        "2530"
       ]
      },
      {
       "output_type": "stream",
       "stream": "stdout",
       "text": [
        "\n",
        "train RMSE:  0.240520006696\n",
        "test RMSE:  0.30609996452\n",
        "2540"
       ]
      },
      {
       "output_type": "stream",
       "stream": "stdout",
       "text": [
        "\n",
        "train RMSE:  0.240460714432\n",
        "test RMSE:  0.30595435323\n",
        "2550"
       ]
      },
      {
       "output_type": "stream",
       "stream": "stdout",
       "text": [
        "\n",
        "train RMSE:  0.240402154694\n",
        "test RMSE:  0.305809778667\n",
        "2560"
       ]
      },
      {
       "output_type": "stream",
       "stream": "stdout",
       "text": [
        "\n",
        "train RMSE:  0.240344317269\n",
        "test RMSE:  0.305666229572\n",
        "2570"
       ]
      },
      {
       "output_type": "stream",
       "stream": "stdout",
       "text": [
        "\n",
        "train RMSE:  0.240287192115\n",
        "test RMSE:  0.305523694855\n",
        "2580"
       ]
      },
      {
       "output_type": "stream",
       "stream": "stdout",
       "text": [
        "\n",
        "train RMSE:  0.24023076936\n",
        "test RMSE:  0.305382163591\n",
        "2590"
       ]
      },
      {
       "output_type": "stream",
       "stream": "stdout",
       "text": [
        "\n",
        "train RMSE:  0.240175039294\n",
        "test RMSE:  0.305241625017\n",
        "2600"
       ]
      },
      {
       "output_type": "stream",
       "stream": "stdout",
       "text": [
        "\n",
        "train RMSE:  0.240119992368\n",
        "test RMSE:  0.305102068529\n",
        "2610"
       ]
      },
      {
       "output_type": "stream",
       "stream": "stdout",
       "text": [
        "\n",
        "train RMSE:  0.240065619191\n",
        "test RMSE:  0.30496348368\n",
        "2620"
       ]
      },
      {
       "output_type": "stream",
       "stream": "stdout",
       "text": [
        "\n",
        "train RMSE:  0.240011910527\n",
        "test RMSE:  0.304825860176\n",
        "2630"
       ]
      },
      {
       "output_type": "stream",
       "stream": "stdout",
       "text": [
        "\n",
        "train RMSE:  0.239958857291\n",
        "test RMSE:  0.304689187873\n",
        "2640"
       ]
      },
      {
       "output_type": "stream",
       "stream": "stdout",
       "text": [
        "\n",
        "train RMSE:  0.239906450547\n",
        "test RMSE:  0.304553456776\n",
        "2650"
       ]
      },
      {
       "output_type": "stream",
       "stream": "stdout",
       "text": [
        "\n",
        "train RMSE:  0.239854681504\n",
        "test RMSE:  0.304418657032\n",
        "2660"
       ]
      },
      {
       "output_type": "stream",
       "stream": "stdout",
       "text": [
        "\n",
        "train RMSE:  0.239803541515\n",
        "test RMSE:  0.304284778934\n",
        "2670"
       ]
      },
      {
       "output_type": "stream",
       "stream": "stdout",
       "text": [
        "\n",
        "train RMSE:  0.239753022072\n",
        "test RMSE:  0.304151812912\n",
        "2680"
       ]
      },
      {
       "output_type": "stream",
       "stream": "stdout",
       "text": [
        "\n",
        "train RMSE:  0.239703114805\n",
        "test RMSE:  0.304019749533\n",
        "2690"
       ]
      },
      {
       "output_type": "stream",
       "stream": "stdout",
       "text": [
        "\n",
        "train RMSE:  0.239653811479\n",
        "test RMSE:  0.3038885795\n",
        "2700"
       ]
      },
      {
       "output_type": "stream",
       "stream": "stdout",
       "text": [
        "\n",
        "train RMSE:  0.23960510399\n",
        "test RMSE:  0.303758293647\n",
        "2710"
       ]
      },
      {
       "output_type": "stream",
       "stream": "stdout",
       "text": [
        "\n",
        "train RMSE:  0.239556984366\n",
        "test RMSE:  0.303628882939\n",
        "2720"
       ]
      },
      {
       "output_type": "stream",
       "stream": "stdout",
       "text": [
        "\n",
        "train RMSE:  0.239509444759\n",
        "test RMSE:  0.303500338466\n",
        "2730"
       ]
      },
      {
       "output_type": "stream",
       "stream": "stdout",
       "text": [
        "\n",
        "train RMSE:  0.239462477449\n",
        "test RMSE:  0.303372651445\n",
        "2740"
       ]
      },
      {
       "output_type": "stream",
       "stream": "stdout",
       "text": [
        "\n",
        "train RMSE:  0.239416074837\n",
        "test RMSE:  0.303245813215\n",
        "2750"
       ]
      },
      {
       "output_type": "stream",
       "stream": "stdout",
       "text": [
        "\n",
        "train RMSE:  0.239370229443\n",
        "test RMSE:  0.303119815237\n",
        "2760"
       ]
      },
      {
       "output_type": "stream",
       "stream": "stdout",
       "text": [
        "\n",
        "train RMSE:  0.239324933906\n",
        "test RMSE:  0.302994649089\n",
        "2770"
       ]
      },
      {
       "output_type": "stream",
       "stream": "stdout",
       "text": [
        "\n",
        "train RMSE:  0.239280180982\n",
        "test RMSE:  0.302870306466\n",
        "2780"
       ]
      },
      {
       "output_type": "stream",
       "stream": "stdout",
       "text": [
        "\n",
        "train RMSE:  0.239235963538\n",
        "test RMSE:  0.302746779177\n",
        "2790"
       ]
      },
      {
       "output_type": "stream",
       "stream": "stdout",
       "text": [
        "\n",
        "train RMSE:  0.239192274553\n",
        "test RMSE:  0.302624059144\n",
        "2800"
       ]
      },
      {
       "output_type": "stream",
       "stream": "stdout",
       "text": [
        "\n",
        "train RMSE:  0.239149107117\n",
        "test RMSE:  0.302502138399\n",
        "2810"
       ]
      },
      {
       "output_type": "stream",
       "stream": "stdout",
       "text": [
        "\n",
        "train RMSE:  0.239106454426\n",
        "test RMSE:  0.302381009082\n",
        "2820"
       ]
      },
      {
       "output_type": "stream",
       "stream": "stdout",
       "text": [
        "\n",
        "train RMSE:  0.239064309782\n",
        "test RMSE:  0.302260663441\n",
        "2830"
       ]
      },
      {
       "output_type": "stream",
       "stream": "stdout",
       "text": [
        "\n",
        "train RMSE:  0.239022666588\n",
        "test RMSE:  0.302141093828\n",
        "2840"
       ]
      },
      {
       "output_type": "stream",
       "stream": "stdout",
       "text": [
        "\n",
        "train RMSE:  0.238981518352\n",
        "test RMSE:  0.302022292697\n",
        "2850"
       ]
      },
      {
       "output_type": "stream",
       "stream": "stdout",
       "text": [
        "\n",
        "train RMSE:  0.238940858681\n",
        "test RMSE:  0.301904252604\n",
        "2860"
       ]
      },
      {
       "output_type": "stream",
       "stream": "stdout",
       "text": [
        "\n",
        "train RMSE:  0.238900681277\n",
        "test RMSE:  0.301786966205\n",
        "2870"
       ]
      },
      {
       "output_type": "stream",
       "stream": "stdout",
       "text": [
        "\n",
        "train RMSE:  0.238860979941\n",
        "test RMSE:  0.301670426253\n",
        "2880"
       ]
      },
      {
       "output_type": "stream",
       "stream": "stdout",
       "text": [
        "\n",
        "train RMSE:  0.238821748567\n",
        "test RMSE:  0.301554625597\n",
        "2890"
       ]
      },
      {
       "output_type": "stream",
       "stream": "stdout",
       "text": [
        "\n",
        "train RMSE:  0.238782981142\n",
        "test RMSE:  0.301439557182\n",
        "2900"
       ]
      },
      {
       "output_type": "stream",
       "stream": "stdout",
       "text": [
        "\n",
        "train RMSE:  0.238744671745\n",
        "test RMSE:  0.301325214043\n",
        "2910"
       ]
      },
      {
       "output_type": "stream",
       "stream": "stdout",
       "text": [
        "\n",
        "train RMSE:  0.238706814543\n",
        "test RMSE:  0.301211589309\n",
        "2920"
       ]
      },
      {
       "output_type": "stream",
       "stream": "stdout",
       "text": [
        "\n",
        "train RMSE:  0.238669403791\n",
        "test RMSE:  0.301098676198\n",
        "2930"
       ]
      },
      {
       "output_type": "stream",
       "stream": "stdout",
       "text": [
        "\n",
        "train RMSE:  0.23863243383\n",
        "test RMSE:  0.300986468015\n",
        "2940"
       ]
      },
      {
       "output_type": "stream",
       "stream": "stdout",
       "text": [
        "\n",
        "train RMSE:  0.238595899086\n",
        "test RMSE:  0.300874958153\n",
        "2950"
       ]
      },
      {
       "output_type": "stream",
       "stream": "stdout",
       "text": [
        "\n",
        "train RMSE:  0.238559794069\n",
        "test RMSE:  0.300764140091\n",
        "2960"
       ]
      },
      {
       "output_type": "stream",
       "stream": "stdout",
       "text": [
        "\n",
        "train RMSE:  0.238524113369\n",
        "test RMSE:  0.300654007392\n",
        "2970"
       ]
      },
      {
       "output_type": "stream",
       "stream": "stdout",
       "text": [
        "\n",
        "train RMSE:  0.238488851658\n",
        "test RMSE:  0.300544553699\n",
        "2980"
       ]
      },
      {
       "output_type": "stream",
       "stream": "stdout",
       "text": [
        "\n",
        "train RMSE:  0.238454003686\n",
        "test RMSE:  0.300435772739\n",
        "2990"
       ]
      },
      {
       "output_type": "stream",
       "stream": "stdout",
       "text": [
        "\n",
        "train RMSE:  0.23841956428\n",
        "test RMSE:  0.300327658319\n",
        "3000"
       ]
      },
      {
       "output_type": "stream",
       "stream": "stdout",
       "text": [
        "\n",
        "train RMSE:  0.238385528344\n",
        "test RMSE:  0.300220204322\n",
        "3010"
       ]
      },
      {
       "output_type": "stream",
       "stream": "stdout",
       "text": [
        "\n",
        "train RMSE:  0.238351890856\n",
        "test RMSE:  0.300113404712\n",
        "3020"
       ]
      },
      {
       "output_type": "stream",
       "stream": "stdout",
       "text": [
        "\n",
        "train RMSE:  0.23831864687\n",
        "test RMSE:  0.300007253525\n",
        "3030"
       ]
      },
      {
       "output_type": "stream",
       "stream": "stdout",
       "text": [
        "\n",
        "train RMSE:  0.238285791508\n",
        "test RMSE:  0.299901744876\n",
        "3040"
       ]
      },
      {
       "output_type": "stream",
       "stream": "stdout",
       "text": [
        "\n",
        "train RMSE:  0.238253319966\n",
        "test RMSE:  0.29979687295\n",
        "3050"
       ]
      },
      {
       "output_type": "stream",
       "stream": "stdout",
       "text": [
        "\n",
        "train RMSE:  0.23822122751\n",
        "test RMSE:  0.299692632008\n",
        "3060"
       ]
      },
      {
       "output_type": "stream",
       "stream": "stdout",
       "text": [
        "\n",
        "train RMSE:  0.238189509473\n",
        "test RMSE:  0.299589016379\n",
        "3070"
       ]
      },
      {
       "output_type": "stream",
       "stream": "stdout",
       "text": [
        "\n",
        "train RMSE:  0.238158161256\n",
        "test RMSE:  0.299486020465\n",
        "3080"
       ]
      },
      {
       "output_type": "stream",
       "stream": "stdout",
       "text": [
        "\n",
        "train RMSE:  0.238127178327\n",
        "test RMSE:  0.299383638735\n",
        "3090"
       ]
      },
      {
       "output_type": "stream",
       "stream": "stdout",
       "text": [
        "\n",
        "train RMSE:  0.238096556218\n",
        "test RMSE:  0.299281865727\n",
        "3100"
       ]
      },
      {
       "output_type": "stream",
       "stream": "stdout",
       "text": [
        "\n",
        "train RMSE:  0.238066290525\n",
        "test RMSE:  0.299180696047\n",
        "3110"
       ]
      },
      {
       "output_type": "stream",
       "stream": "stdout",
       "text": [
        "\n",
        "train RMSE:  0.23803637691\n",
        "test RMSE:  0.299080124365\n",
        "3120"
       ]
      },
      {
       "output_type": "stream",
       "stream": "stdout",
       "text": [
        "\n",
        "train RMSE:  0.238006811093\n",
        "test RMSE:  0.298980145417\n",
        "3130"
       ]
      },
      {
       "output_type": "stream",
       "stream": "stdout",
       "text": [
        "\n",
        "train RMSE:  0.237977588856\n",
        "test RMSE:  0.298880754001\n",
        "3140"
       ]
      },
      {
       "output_type": "stream",
       "stream": "stdout",
       "text": [
        "\n",
        "train RMSE:  0.237948706042\n",
        "test RMSE:  0.298781944982\n",
        "3150"
       ]
      },
      {
       "output_type": "stream",
       "stream": "stdout",
       "text": [
        "\n",
        "train RMSE:  0.237920158552\n",
        "test RMSE:  0.298683713282\n",
        "3160"
       ]
      },
      {
       "output_type": "stream",
       "stream": "stdout",
       "text": [
        "\n",
        "train RMSE:  0.237891942345\n",
        "test RMSE:  0.298586053888\n",
        "3170"
       ]
      },
      {
       "output_type": "stream",
       "stream": "stdout",
       "text": [
        "\n",
        "train RMSE:  0.237864053437\n",
        "test RMSE:  0.298488961844\n",
        "3180"
       ]
      },
      {
       "output_type": "stream",
       "stream": "stdout",
       "text": [
        "\n",
        "train RMSE:  0.2378364879\n",
        "test RMSE:  0.298392432255\n",
        "3190"
       ]
      },
      {
       "output_type": "stream",
       "stream": "stdout",
       "text": [
        "\n",
        "train RMSE:  0.23780924186\n",
        "test RMSE:  0.298296460283\n",
        "3200"
       ]
      },
      {
       "output_type": "stream",
       "stream": "stdout",
       "text": [
        "\n",
        "train RMSE:  0.2377823115\n",
        "test RMSE:  0.298201041149\n",
        "3210"
       ]
      },
      {
       "output_type": "stream",
       "stream": "stdout",
       "text": [
        "\n",
        "train RMSE:  0.237755693054\n",
        "test RMSE:  0.298106170128\n",
        "3220"
       ]
      },
      {
       "output_type": "stream",
       "stream": "stdout",
       "text": [
        "\n",
        "train RMSE:  0.237729382807\n",
        "test RMSE:  0.298011842554\n",
        "3230"
       ]
      },
      {
       "output_type": "stream",
       "stream": "stdout",
       "text": [
        "\n",
        "train RMSE:  0.237703377099\n",
        "test RMSE:  0.297918053811\n",
        "3240"
       ]
      },
      {
       "output_type": "stream",
       "stream": "stdout",
       "text": [
        "\n",
        "train RMSE:  0.237677672319\n",
        "test RMSE:  0.297824799342\n",
        "3250"
       ]
      },
      {
       "output_type": "stream",
       "stream": "stdout",
       "text": [
        "\n",
        "train RMSE:  0.237652264906\n",
        "test RMSE:  0.297732074639\n",
        "3260"
       ]
      },
      {
       "output_type": "stream",
       "stream": "stdout",
       "text": [
        "\n",
        "train RMSE:  0.237627151347\n",
        "test RMSE:  0.297639875249\n",
        "3270"
       ]
      },
      {
       "output_type": "stream",
       "stream": "stdout",
       "text": [
        "\n",
        "train RMSE:  0.237602328179\n",
        "test RMSE:  0.29754819677\n",
        "3280"
       ]
      },
      {
       "output_type": "stream",
       "stream": "stdout",
       "text": [
        "\n",
        "train RMSE:  0.237577791985\n",
        "test RMSE:  0.29745703485\n",
        "3290"
       ]
      },
      {
       "output_type": "stream",
       "stream": "stdout",
       "text": [
        "\n",
        "train RMSE:  0.237553539397\n",
        "test RMSE:  0.297366385188\n",
        "3300"
       ]
      },
      {
       "output_type": "stream",
       "stream": "stdout",
       "text": [
        "\n",
        "train RMSE:  0.237529567091\n",
        "test RMSE:  0.297276243531\n",
        "3310"
       ]
      },
      {
       "output_type": "stream",
       "stream": "stdout",
       "text": [
        "\n",
        "train RMSE:  0.237505871787\n",
        "test RMSE:  0.297186605676\n",
        "3320"
       ]
      },
      {
       "output_type": "stream",
       "stream": "stdout",
       "text": [
        "\n",
        "train RMSE:  0.237482450254\n",
        "test RMSE:  0.297097467467\n",
        "3330"
       ]
      },
      {
       "output_type": "stream",
       "stream": "stdout",
       "text": [
        "\n",
        "train RMSE:  0.2374592993\n",
        "test RMSE:  0.297008824796\n",
        "3340"
       ]
      },
      {
       "output_type": "stream",
       "stream": "stdout",
       "text": [
        "\n",
        "train RMSE:  0.237436415779\n",
        "test RMSE:  0.296920673601\n",
        "3350"
       ]
      },
      {
       "output_type": "stream",
       "stream": "stdout",
       "text": [
        "\n",
        "train RMSE:  0.237413796587\n",
        "test RMSE:  0.296833009865\n",
        "3360"
       ]
      },
      {
       "output_type": "stream",
       "stream": "stdout",
       "text": [
        "\n",
        "train RMSE:  0.237391438661\n",
        "test RMSE:  0.296745829618\n",
        "3370"
       ]
      },
      {
       "output_type": "stream",
       "stream": "stdout",
       "text": [
        "\n",
        "train RMSE:  0.23736933898\n",
        "test RMSE:  0.296659128933\n",
        "3380"
       ]
      },
      {
       "output_type": "stream",
       "stream": "stdout",
       "text": [
        "\n",
        "train RMSE:  0.237347494562\n",
        "test RMSE:  0.296572903927\n",
        "3390"
       ]
      },
      {
       "output_type": "stream",
       "stream": "stdout",
       "text": [
        "\n",
        "train RMSE:  0.237325902467\n",
        "test RMSE:  0.296487150761\n",
        "3400"
       ]
      },
      {
       "output_type": "stream",
       "stream": "stdout",
       "text": [
        "\n",
        "train RMSE:  0.237304559793\n",
        "test RMSE:  0.296401865639\n",
        "3410"
       ]
      },
      {
       "output_type": "stream",
       "stream": "stdout",
       "text": [
        "\n",
        "train RMSE:  0.237283463677\n",
        "test RMSE:  0.296317044805\n",
        "3420"
       ]
      },
      {
       "output_type": "stream",
       "stream": "stdout",
       "text": [
        "\n",
        "train RMSE:  0.237262611293\n",
        "test RMSE:  0.296232684547\n",
        "3430"
       ]
      },
      {
       "output_type": "stream",
       "stream": "stdout",
       "text": [
        "\n",
        "train RMSE:  0.237241999853\n",
        "test RMSE:  0.296148781192\n",
        "3440"
       ]
      },
      {
       "output_type": "stream",
       "stream": "stdout",
       "text": [
        "\n",
        "train RMSE:  0.237221626607\n",
        "test RMSE:  0.296065331107\n",
        "3450"
       ]
      },
      {
       "output_type": "stream",
       "stream": "stdout",
       "text": [
        "\n",
        "train RMSE:  0.237201488839\n",
        "test RMSE:  0.295982330701\n",
        "3460"
       ]
      },
      {
       "output_type": "stream",
       "stream": "stdout",
       "text": [
        "\n",
        "train RMSE:  0.237181583872\n",
        "test RMSE:  0.29589977642\n",
        "3470"
       ]
      },
      {
       "output_type": "stream",
       "stream": "stdout",
       "text": [
        "\n",
        "train RMSE:  0.23716190906\n",
        "test RMSE:  0.295817664749\n",
        "3480"
       ]
      },
      {
       "output_type": "stream",
       "stream": "stdout",
       "text": [
        "\n",
        "train RMSE:  0.237142461795\n",
        "test RMSE:  0.295735992212\n",
        "3490"
       ]
      },
      {
       "output_type": "stream",
       "stream": "stdout",
       "text": [
        "\n",
        "train RMSE:  0.237123239502\n",
        "test RMSE:  0.295654755369\n",
        "3500"
       ]
      },
      {
       "output_type": "stream",
       "stream": "stdout",
       "text": [
        "\n",
        "train RMSE:  0.237104239639\n",
        "test RMSE:  0.295573950819\n",
        "3510"
       ]
      },
      {
       "output_type": "stream",
       "stream": "stdout",
       "text": [
        "\n",
        "train RMSE:  0.237085459698\n",
        "test RMSE:  0.295493575196\n",
        "3520"
       ]
      },
      {
       "output_type": "stream",
       "stream": "stdout",
       "text": [
        "\n",
        "train RMSE:  0.237066897202\n",
        "test RMSE:  0.295413625171\n",
        "3530"
       ]
      },
      {
       "output_type": "stream",
       "stream": "stdout",
       "text": [
        "\n",
        "train RMSE:  0.237048549709\n",
        "test RMSE:  0.295334097448\n",
        "3540"
       ]
      },
      {
       "output_type": "stream",
       "stream": "stdout",
       "text": [
        "\n",
        "train RMSE:  0.237030414805\n",
        "test RMSE:  0.295254988771\n",
        "3550"
       ]
      },
      {
       "output_type": "stream",
       "stream": "stdout",
       "text": [
        "\n",
        "train RMSE:  0.237012490111\n",
        "test RMSE:  0.295176295913\n",
        "3560"
       ]
      },
      {
       "output_type": "stream",
       "stream": "stdout",
       "text": [
        "\n",
        "train RMSE:  0.236994773274\n",
        "test RMSE:  0.295098015684\n",
        "3570"
       ]
      },
      {
       "output_type": "stream",
       "stream": "stdout",
       "text": [
        "\n",
        "train RMSE:  0.236977261976\n",
        "test RMSE:  0.295020144929\n",
        "3580"
       ]
      },
      {
       "output_type": "stream",
       "stream": "stdout",
       "text": [
        "\n",
        "train RMSE:  0.236959953926\n",
        "test RMSE:  0.294942680522\n",
        "3590"
       ]
      },
      {
       "output_type": "stream",
       "stream": "stdout",
       "text": [
        "\n",
        "train RMSE:  0.236942846862\n",
        "test RMSE:  0.294865619374\n",
        "3600"
       ]
      },
      {
       "output_type": "stream",
       "stream": "stdout",
       "text": [
        "\n",
        "train RMSE:  0.236925938553\n",
        "test RMSE:  0.294788958426\n",
        "3610"
       ]
      },
      {
       "output_type": "stream",
       "stream": "stdout",
       "text": [
        "\n",
        "train RMSE:  0.236909226793\n",
        "test RMSE:  0.294712694651\n",
        "3620"
       ]
      },
      {
       "output_type": "stream",
       "stream": "stdout",
       "text": [
        "\n",
        "train RMSE:  0.236892709409\n",
        "test RMSE:  0.294636825053\n",
        "3630"
       ]
      },
      {
       "output_type": "stream",
       "stream": "stdout",
       "text": [
        "\n",
        "train RMSE:  0.23687638425\n",
        "test RMSE:  0.294561346669\n",
        "3640"
       ]
      },
      {
       "output_type": "stream",
       "stream": "stdout",
       "text": [
        "\n",
        "train RMSE:  0.236860249197\n",
        "test RMSE:  0.294486256564\n",
        "3650"
       ]
      },
      {
       "output_type": "stream",
       "stream": "stdout",
       "text": [
        "\n",
        "train RMSE:  0.236844302154\n",
        "test RMSE:  0.294411551836\n",
        "3660"
       ]
      },
      {
       "output_type": "stream",
       "stream": "stdout",
       "text": [
        "\n",
        "train RMSE:  0.236828541055\n",
        "test RMSE:  0.29433722961\n",
        "3670"
       ]
      },
      {
       "output_type": "stream",
       "stream": "stdout",
       "text": [
        "\n",
        "train RMSE:  0.236812963856\n",
        "test RMSE:  0.294263287042\n",
        "3680"
       ]
      },
      {
       "output_type": "stream",
       "stream": "stdout",
       "text": [
        "\n",
        "train RMSE:  0.236797568543\n",
        "test RMSE:  0.294189721317\n",
        "3690"
       ]
      },
      {
       "output_type": "stream",
       "stream": "stdout",
       "text": [
        "\n",
        "train RMSE:  0.236782353124\n",
        "test RMSE:  0.294116529648\n",
        "3700"
       ]
      },
      {
       "output_type": "stream",
       "stream": "stdout",
       "text": [
        "\n",
        "train RMSE:  0.236767315632\n",
        "test RMSE:  0.294043709277\n",
        "3710"
       ]
      },
      {
       "output_type": "stream",
       "stream": "stdout",
       "text": [
        "\n",
        "train RMSE:  0.236752454127\n",
        "test RMSE:  0.293971257473\n",
        "3720"
       ]
      },
      {
       "output_type": "stream",
       "stream": "stdout",
       "text": [
        "\n",
        "train RMSE:  0.236737766691\n",
        "test RMSE:  0.293899171533\n",
        "3730"
       ]
      },
      {
       "output_type": "stream",
       "stream": "stdout",
       "text": [
        "\n",
        "train RMSE:  0.23672325143\n",
        "test RMSE:  0.293827448782\n",
        "3740"
       ]
      },
      {
       "output_type": "stream",
       "stream": "stdout",
       "text": [
        "\n",
        "train RMSE:  0.236708906475\n",
        "test RMSE:  0.293756086569\n",
        "3750"
       ]
      },
      {
       "output_type": "stream",
       "stream": "stdout",
       "text": [
        "\n",
        "train RMSE:  0.236694729978\n",
        "test RMSE:  0.293685082274\n",
        "3760"
       ]
      },
      {
       "output_type": "stream",
       "stream": "stdout",
       "text": [
        "\n",
        "train RMSE:  0.236680720116\n",
        "test RMSE:  0.293614433299\n",
        "3770"
       ]
      },
      {
       "output_type": "stream",
       "stream": "stdout",
       "text": [
        "\n",
        "train RMSE:  0.236666875087\n",
        "test RMSE:  0.293544137075\n",
        "3780"
       ]
      },
      {
       "output_type": "stream",
       "stream": "stdout",
       "text": [
        "\n",
        "train RMSE:  0.236653193111\n",
        "test RMSE:  0.293474191055\n",
        "3790"
       ]
      },
      {
       "output_type": "stream",
       "stream": "stdout",
       "text": [
        "\n",
        "train RMSE:  0.236639672431\n",
        "test RMSE:  0.293404592719\n",
        "3800"
       ]
      },
      {
       "output_type": "stream",
       "stream": "stdout",
       "text": [
        "\n",
        "train RMSE:  0.236626311311\n",
        "test RMSE:  0.293335339574\n",
        "3810"
       ]
      },
      {
       "output_type": "stream",
       "stream": "stdout",
       "text": [
        "\n",
        "train RMSE:  0.236613108036\n",
        "test RMSE:  0.293266429148\n",
        "3820"
       ]
      },
      {
       "output_type": "stream",
       "stream": "stdout",
       "text": [
        "\n",
        "train RMSE:  0.236600060913\n",
        "test RMSE:  0.293197858995\n",
        "3830"
       ]
      },
      {
       "output_type": "stream",
       "stream": "stdout",
       "text": [
        "\n",
        "train RMSE:  0.236587168267\n",
        "test RMSE:  0.293129626693\n",
        "3840"
       ]
      },
      {
       "output_type": "stream",
       "stream": "stdout",
       "text": [
        "\n",
        "train RMSE:  0.236574428447\n",
        "test RMSE:  0.293061729841\n",
        "3850"
       ]
      },
      {
       "output_type": "stream",
       "stream": "stdout",
       "text": [
        "\n",
        "train RMSE:  0.23656183982\n",
        "test RMSE:  0.292994166067\n",
        "3860"
       ]
      },
      {
       "output_type": "stream",
       "stream": "stdout",
       "text": [
        "\n",
        "train RMSE:  0.236549400771\n",
        "test RMSE:  0.292926933015\n",
        "3870"
       ]
      },
      {
       "output_type": "stream",
       "stream": "stdout",
       "text": [
        "\n",
        "train RMSE:  0.236537109709\n",
        "test RMSE:  0.292860028357\n",
        "3880"
       ]
      },
      {
       "output_type": "stream",
       "stream": "stdout",
       "text": [
        "\n",
        "train RMSE:  0.236524965059\n",
        "test RMSE:  0.292793449786\n",
        "3890"
       ]
      },
      {
       "output_type": "stream",
       "stream": "stdout",
       "text": [
        "\n",
        "train RMSE:  0.236512965264\n",
        "test RMSE:  0.292727195016\n",
        "3900"
       ]
      },
      {
       "output_type": "stream",
       "stream": "stdout",
       "text": [
        "\n",
        "train RMSE:  0.23650110879\n",
        "test RMSE:  0.292661261785\n",
        "3910"
       ]
      },
      {
       "output_type": "stream",
       "stream": "stdout",
       "text": [
        "\n",
        "train RMSE:  0.236489394117\n",
        "test RMSE:  0.292595647849\n",
        "3920"
       ]
      },
      {
       "output_type": "stream",
       "stream": "stdout",
       "text": [
        "\n",
        "train RMSE:  0.236477819746\n",
        "test RMSE:  0.29253035099\n",
        "3930"
       ]
      },
      {
       "output_type": "stream",
       "stream": "stdout",
       "text": [
        "\n",
        "train RMSE:  0.236466384195\n",
        "test RMSE:  0.292465369008\n",
        "3940"
       ]
      },
      {
       "output_type": "stream",
       "stream": "stdout",
       "text": [
        "\n",
        "train RMSE:  0.236455085999\n",
        "test RMSE:  0.292400699725\n",
        "3950"
       ]
      },
      {
       "output_type": "stream",
       "stream": "stdout",
       "text": [
        "\n",
        "train RMSE:  0.236443923711\n",
        "test RMSE:  0.292336340982\n",
        "3960"
       ]
      },
      {
       "output_type": "stream",
       "stream": "stdout",
       "text": [
        "\n",
        "train RMSE:  0.236432895902\n",
        "test RMSE:  0.292272290644\n",
        "3970"
       ]
      },
      {
       "output_type": "stream",
       "stream": "stdout",
       "text": [
        "\n",
        "train RMSE:  0.236422001159\n",
        "test RMSE:  0.292208546592\n",
        "3980"
       ]
      },
      {
       "output_type": "stream",
       "stream": "stdout",
       "text": [
        "\n",
        "train RMSE:  0.236411238086\n",
        "test RMSE:  0.292145106729\n",
        "3990"
       ]
      },
      {
       "output_type": "stream",
       "stream": "stdout",
       "text": [
        "\n",
        "train RMSE:  0.236400605303\n",
        "test RMSE:  0.292081968977\n",
        "4000"
       ]
      },
      {
       "output_type": "stream",
       "stream": "stdout",
       "text": [
        "\n",
        "train RMSE:  0.236390101448\n",
        "test RMSE:  0.292019131278\n",
        "4010"
       ]
      },
      {
       "output_type": "stream",
       "stream": "stdout",
       "text": [
        "\n",
        "train RMSE:  0.236379725173\n",
        "test RMSE:  0.291956591592\n",
        "4020"
       ]
      },
      {
       "output_type": "stream",
       "stream": "stdout",
       "text": [
        "\n",
        "train RMSE:  0.236369475146\n",
        "test RMSE:  0.2918943479\n",
        "4030"
       ]
      },
      {
       "output_type": "stream",
       "stream": "stdout",
       "text": [
        "\n",
        "train RMSE:  0.236359350053\n",
        "test RMSE:  0.2918323982\n",
        "4040"
       ]
      },
      {
       "output_type": "stream",
       "stream": "stdout",
       "text": [
        "\n",
        "train RMSE:  0.236349348592\n",
        "test RMSE:  0.291770740508\n",
        "4050"
       ]
      },
      {
       "output_type": "stream",
       "stream": "stdout",
       "text": [
        "\n",
        "train RMSE:  0.236339469479\n",
        "test RMSE:  0.291709372859\n",
        "4060"
       ]
      },
      {
       "output_type": "stream",
       "stream": "stdout",
       "text": [
        "\n",
        "train RMSE:  0.236329711444\n",
        "test RMSE:  0.291648293308\n",
        "4070"
       ]
      },
      {
       "output_type": "stream",
       "stream": "stdout",
       "text": [
        "\n",
        "train RMSE:  0.236320073231\n",
        "test RMSE:  0.291587499923\n",
        "4080"
       ]
      },
      {
       "output_type": "stream",
       "stream": "stdout",
       "text": [
        "\n",
        "train RMSE:  0.2363105536\n",
        "test RMSE:  0.291526990795\n",
        "4090"
       ]
      },
      {
       "output_type": "stream",
       "stream": "stdout",
       "text": [
        "\n",
        "train RMSE:  0.236301151325\n",
        "test RMSE:  0.291466764029\n",
        "4100"
       ]
      },
      {
       "output_type": "stream",
       "stream": "stdout",
       "text": [
        "\n",
        "train RMSE:  0.236291865194\n",
        "test RMSE:  0.291406817749\n",
        "4110"
       ]
      },
      {
       "output_type": "stream",
       "stream": "stdout",
       "text": [
        "\n",
        "train RMSE:  0.236282694008\n",
        "test RMSE:  0.291347150094\n",
        "4120"
       ]
      },
      {
       "output_type": "stream",
       "stream": "stdout",
       "text": [
        "\n",
        "train RMSE:  0.236273636583\n",
        "test RMSE:  0.291287759221\n",
        "4130"
       ]
      },
      {
       "output_type": "stream",
       "stream": "stdout",
       "text": [
        "\n",
        "train RMSE:  0.236264691749\n",
        "test RMSE:  0.291228643304\n",
        "4140"
       ]
      },
      {
       "output_type": "stream",
       "stream": "stdout",
       "text": [
        "\n",
        "train RMSE:  0.23625585835\n",
        "test RMSE:  0.291169800534\n",
        "4150"
       ]
      },
      {
       "output_type": "stream",
       "stream": "stdout",
       "text": [
        "\n",
        "train RMSE:  0.23624713524\n",
        "test RMSE:  0.291111229116\n",
        "4160"
       ]
      },
      {
       "output_type": "stream",
       "stream": "stdout",
       "text": [
        "\n",
        "train RMSE:  0.23623852129\n",
        "test RMSE:  0.291052927272\n",
        "4170"
       ]
      },
      {
       "output_type": "stream",
       "stream": "stdout",
       "text": [
        "\n",
        "train RMSE:  0.236230015382\n",
        "test RMSE:  0.290994893241\n",
        "4180"
       ]
      },
      {
       "output_type": "stream",
       "stream": "stdout",
       "text": [
        "\n",
        "train RMSE:  0.236221616411\n",
        "test RMSE:  0.290937125277\n",
        "4190"
       ]
      },
      {
       "output_type": "stream",
       "stream": "stdout",
       "text": [
        "\n",
        "train RMSE:  0.236213323285\n",
        "test RMSE:  0.290879621648\n",
        "4200"
       ]
      },
      {
       "output_type": "stream",
       "stream": "stdout",
       "text": [
        "\n",
        "train RMSE:  0.236205134924\n",
        "test RMSE:  0.29082238064\n",
        "4210"
       ]
      },
      {
       "output_type": "stream",
       "stream": "stdout",
       "text": [
        "\n",
        "train RMSE:  0.23619705026\n",
        "test RMSE:  0.290765400552\n",
        "4220"
       ]
      },
      {
       "output_type": "stream",
       "stream": "stdout",
       "text": [
        "\n",
        "train RMSE:  0.236189068238\n",
        "test RMSE:  0.2907086797\n",
        "4230"
       ]
      },
      {
       "output_type": "stream",
       "stream": "stdout",
       "text": [
        "\n",
        "train RMSE:  0.236181187815\n",
        "test RMSE:  0.290652216412\n",
        "4240"
       ]
      },
      {
       "output_type": "stream",
       "stream": "stdout",
       "text": [
        "\n",
        "train RMSE:  0.236173407959\n",
        "test RMSE:  0.290596009032\n",
        "4250"
       ]
      },
      {
       "output_type": "stream",
       "stream": "stdout",
       "text": [
        "\n",
        "train RMSE:  0.23616572765\n",
        "test RMSE:  0.29054005592\n",
        "4260"
       ]
      },
      {
       "output_type": "stream",
       "stream": "stdout",
       "text": [
        "\n",
        "train RMSE:  0.236158145879\n",
        "test RMSE:  0.290484355449\n",
        "4270"
       ]
      },
      {
       "output_type": "stream",
       "stream": "stdout",
       "text": [
        "\n",
        "train RMSE:  0.236150661649\n",
        "test RMSE:  0.290428906005\n",
        "4280"
       ]
      },
      {
       "output_type": "stream",
       "stream": "stdout",
       "text": [
        "\n",
        "train RMSE:  0.236143273975\n",
        "test RMSE:  0.29037370599\n",
        "4290"
       ]
      },
      {
       "output_type": "stream",
       "stream": "stdout",
       "text": [
        "\n",
        "train RMSE:  0.236135981882\n",
        "test RMSE:  0.290318753819\n",
        "4300"
       ]
      },
      {
       "output_type": "stream",
       "stream": "stdout",
       "text": [
        "\n",
        "train RMSE:  0.236128784405\n",
        "test RMSE:  0.290264047919\n",
        "4310"
       ]
      },
      {
       "output_type": "stream",
       "stream": "stdout",
       "text": [
        "\n",
        "train RMSE:  0.236121680591\n",
        "test RMSE:  0.290209586735\n",
        "4320"
       ]
      },
      {
       "output_type": "stream",
       "stream": "stdout",
       "text": [
        "\n",
        "train RMSE:  0.236114669499\n",
        "test RMSE:  0.29015536872\n",
        "4330"
       ]
      },
      {
       "output_type": "stream",
       "stream": "stdout",
       "text": [
        "\n",
        "train RMSE:  0.236107750195\n",
        "test RMSE:  0.290101392344\n",
        "4340"
       ]
      },
      {
       "output_type": "stream",
       "stream": "stdout",
       "text": [
        "\n",
        "train RMSE:  0.236100921759\n",
        "test RMSE:  0.290047656089\n",
        "4350"
       ]
      },
      {
       "output_type": "stream",
       "stream": "stdout",
       "text": [
        "\n",
        "train RMSE:  0.236094183279\n",
        "test RMSE:  0.289994158449\n",
        "4360"
       ]
      },
      {
       "output_type": "stream",
       "stream": "stdout",
       "text": [
        "\n",
        "train RMSE:  0.236087533854\n",
        "test RMSE:  0.289940897932\n",
        "4370"
       ]
      },
      {
       "output_type": "stream",
       "stream": "stdout",
       "text": [
        "\n",
        "train RMSE:  0.236080972592\n",
        "test RMSE:  0.289887873059\n",
        "4380"
       ]
      },
      {
       "output_type": "stream",
       "stream": "stdout",
       "text": [
        "\n",
        "train RMSE:  0.236074498612\n",
        "test RMSE:  0.289835082361\n",
        "4390"
       ]
      },
      {
       "output_type": "stream",
       "stream": "stdout",
       "text": [
        "\n",
        "train RMSE:  0.236068111042\n",
        "test RMSE:  0.289782524385\n",
        "4400"
       ]
      },
      {
       "output_type": "stream",
       "stream": "stdout",
       "text": [
        "\n",
        "train RMSE:  0.236061809021\n",
        "test RMSE:  0.289730197688\n",
        "4410"
       ]
      },
      {
       "output_type": "stream",
       "stream": "stdout",
       "text": [
        "\n",
        "train RMSE:  0.236055591695\n",
        "test RMSE:  0.28967810084\n",
        "4420"
       ]
      },
      {
       "output_type": "stream",
       "stream": "stdout",
       "text": [
        "\n",
        "train RMSE:  0.236049458222\n",
        "test RMSE:  0.289626232421\n",
        "4430"
       ]
      },
      {
       "output_type": "stream",
       "stream": "stdout",
       "text": [
        "\n",
        "train RMSE:  0.236043407768\n",
        "test RMSE:  0.289574591025\n",
        "4440"
       ]
      },
      {
       "output_type": "stream",
       "stream": "stdout",
       "text": [
        "\n",
        "train RMSE:  0.236037439507\n",
        "test RMSE:  0.289523175258\n",
        "4450"
       ]
      },
      {
       "output_type": "stream",
       "stream": "stdout",
       "text": [
        "\n",
        "train RMSE:  0.236031552623\n",
        "test RMSE:  0.289471983736\n",
        "4460"
       ]
      },
      {
       "output_type": "stream",
       "stream": "stdout",
       "text": [
        "\n",
        "train RMSE:  0.236025746311\n",
        "test RMSE:  0.289421015088\n",
        "4470"
       ]
      },
      {
       "output_type": "stream",
       "stream": "stdout",
       "text": [
        "\n",
        "train RMSE:  0.236020019771\n",
        "test RMSE:  0.289370267952\n",
        "4480"
       ]
      },
      {
       "output_type": "stream",
       "stream": "stdout",
       "text": [
        "\n",
        "train RMSE:  0.236014372215\n",
        "test RMSE:  0.289319740981\n",
        "4490"
       ]
      },
      {
       "output_type": "stream",
       "stream": "stdout",
       "text": [
        "\n",
        "train RMSE:  0.236008802862\n",
        "test RMSE:  0.289269432835\n",
        "4500"
       ]
      },
      {
       "output_type": "stream",
       "stream": "stdout",
       "text": [
        "\n",
        "train RMSE:  0.236003310938\n",
        "test RMSE:  0.289219342188\n",
        "4510"
       ]
      },
      {
       "output_type": "stream",
       "stream": "stdout",
       "text": [
        "\n",
        "train RMSE:  0.235997895681\n",
        "test RMSE:  0.289169467724\n",
        "4520"
       ]
      },
      {
       "output_type": "stream",
       "stream": "stdout",
       "text": [
        "\n",
        "train RMSE:  0.235992556335\n",
        "test RMSE:  0.289119808137\n",
        "4530"
       ]
      },
      {
       "output_type": "stream",
       "stream": "stdout",
       "text": [
        "\n",
        "train RMSE:  0.235987292151\n",
        "test RMSE:  0.289070362132\n",
        "4540"
       ]
      },
      {
       "output_type": "stream",
       "stream": "stdout",
       "text": [
        "\n",
        "train RMSE:  0.23598210239\n",
        "test RMSE:  0.289021128426\n",
        "4550"
       ]
      },
      {
       "output_type": "stream",
       "stream": "stdout",
       "text": [
        "\n",
        "train RMSE:  0.235976986322\n",
        "test RMSE:  0.288972105744\n",
        "4560"
       ]
      },
      {
       "output_type": "stream",
       "stream": "stdout",
       "text": [
        "\n",
        "train RMSE:  0.235971943222\n",
        "test RMSE:  0.288923292824\n",
        "4570"
       ]
      },
      {
       "output_type": "stream",
       "stream": "stdout",
       "text": [
        "\n",
        "train RMSE:  0.235966972374\n",
        "test RMSE:  0.288874688411\n",
        "4580"
       ]
      },
      {
       "output_type": "stream",
       "stream": "stdout",
       "text": [
        "\n",
        "train RMSE:  0.23596207307\n",
        "test RMSE:  0.288826291264\n",
        "4590"
       ]
      },
      {
       "output_type": "stream",
       "stream": "stdout",
       "text": [
        "\n",
        "train RMSE:  0.235957244609\n",
        "test RMSE:  0.288778100148\n",
        "4600"
       ]
      },
      {
       "output_type": "stream",
       "stream": "stdout",
       "text": [
        "\n",
        "train RMSE:  0.235952486299\n",
        "test RMSE:  0.288730113841\n",
        "4610"
       ]
      },
      {
       "output_type": "stream",
       "stream": "stdout",
       "text": [
        "\n",
        "train RMSE:  0.235947797454\n",
        "test RMSE:  0.288682331129\n",
        "4620"
       ]
      },
      {
       "output_type": "stream",
       "stream": "stdout",
       "text": [
        "\n",
        "train RMSE:  0.235943177394\n",
        "test RMSE:  0.288634750809\n",
        "4630"
       ]
      },
      {
       "output_type": "stream",
       "stream": "stdout",
       "text": [
        "\n",
        "train RMSE:  0.23593862545\n",
        "test RMSE:  0.288587371686\n",
        "4640"
       ]
      },
      {
       "output_type": "stream",
       "stream": "stdout",
       "text": [
        "\n",
        "train RMSE:  0.235934140956\n",
        "test RMSE:  0.288540192576\n",
        "4650"
       ]
      },
      {
       "output_type": "stream",
       "stream": "stdout",
       "text": [
        "\n",
        "train RMSE:  0.235929723256\n",
        "test RMSE:  0.288493212305\n",
        "4660"
       ]
      },
      {
       "output_type": "stream",
       "stream": "stdout",
       "text": [
        "\n",
        "train RMSE:  0.235925371699\n",
        "test RMSE:  0.288446429705\n",
        "4670"
       ]
      },
      {
       "output_type": "stream",
       "stream": "stdout",
       "text": [
        "\n",
        "train RMSE:  0.235921085643\n",
        "test RMSE:  0.288399843621\n",
        "4680"
       ]
      },
      {
       "output_type": "stream",
       "stream": "stdout",
       "text": [
        "\n",
        "train RMSE:  0.235916864451\n",
        "test RMSE:  0.288353452904\n",
        "4690"
       ]
      },
      {
       "output_type": "stream",
       "stream": "stdout",
       "text": [
        "\n",
        "train RMSE:  0.235912707493\n",
        "test RMSE:  0.288307256417\n",
        "4700"
       ]
      },
      {
       "output_type": "stream",
       "stream": "stdout",
       "text": [
        "\n",
        "train RMSE:  0.235908614147\n",
        "test RMSE:  0.28826125303\n",
        "4710"
       ]
      },
      {
       "output_type": "stream",
       "stream": "stdout",
       "text": [
        "\n",
        "train RMSE:  0.235904583795\n",
        "test RMSE:  0.288215441622\n",
        "4720"
       ]
      },
      {
       "output_type": "stream",
       "stream": "stdout",
       "text": [
        "\n",
        "train RMSE:  0.235900615828\n",
        "test RMSE:  0.288169821081\n",
        "4730"
       ]
      },
      {
       "output_type": "stream",
       "stream": "stdout",
       "text": [
        "\n",
        "train RMSE:  0.235896709642\n",
        "test RMSE:  0.288124390305\n",
        "4740"
       ]
      },
      {
       "output_type": "stream",
       "stream": "stdout",
       "text": [
        "\n",
        "train RMSE:  0.23589286464\n",
        "test RMSE:  0.288079148198\n",
        "4750"
       ]
      },
      {
       "output_type": "stream",
       "stream": "stdout",
       "text": [
        "\n",
        "train RMSE:  0.235889080231\n",
        "test RMSE:  0.288034093674\n",
        "4760"
       ]
      },
      {
       "output_type": "stream",
       "stream": "stdout",
       "text": [
        "\n",
        "train RMSE:  0.235885355829\n",
        "test RMSE:  0.287989225655\n",
        "4770"
       ]
      },
      {
       "output_type": "stream",
       "stream": "stdout",
       "text": [
        "\n",
        "train RMSE:  0.235881690856\n",
        "test RMSE:  0.287944543073\n",
        "4780"
       ]
      },
      {
       "output_type": "stream",
       "stream": "stdout",
       "text": [
        "\n",
        "train RMSE:  0.235878084739\n",
        "test RMSE:  0.287900044865\n",
        "4790"
       ]
      },
      {
       "output_type": "stream",
       "stream": "stdout",
       "text": [
        "\n",
        "train RMSE:  0.235874536912\n",
        "test RMSE:  0.287855729979\n",
        "4800"
       ]
      },
      {
       "output_type": "stream",
       "stream": "stdout",
       "text": [
        "\n",
        "train RMSE:  0.235871046813\n",
        "test RMSE:  0.287811597371\n",
        "4810"
       ]
      },
      {
       "output_type": "stream",
       "stream": "stdout",
       "text": [
        "\n",
        "train RMSE:  0.235867613888\n",
        "test RMSE:  0.287767646002\n",
        "4820"
       ]
      },
      {
       "output_type": "stream",
       "stream": "stdout",
       "text": [
        "\n",
        "train RMSE:  0.235864237586\n",
        "test RMSE:  0.287723874844\n",
        "4830"
       ]
      },
      {
       "output_type": "stream",
       "stream": "stdout",
       "text": [
        "\n",
        "train RMSE:  0.235860917365\n",
        "test RMSE:  0.287680282877\n",
        "4840"
       ]
      },
      {
       "output_type": "stream",
       "stream": "stdout",
       "text": [
        "\n",
        "train RMSE:  0.235857652686\n",
        "test RMSE:  0.287636869086\n",
        "4850"
       ]
      },
      {
       "output_type": "stream",
       "stream": "stdout",
       "text": [
        "\n",
        "train RMSE:  0.235854443016\n",
        "test RMSE:  0.287593632465\n",
        "4860"
       ]
      },
      {
       "output_type": "stream",
       "stream": "stdout",
       "text": [
        "\n",
        "train RMSE:  0.235851287829\n",
        "test RMSE:  0.287550572018\n",
        "4870"
       ]
      },
      {
       "output_type": "stream",
       "stream": "stdout",
       "text": [
        "\n",
        "train RMSE:  0.235848186604\n",
        "test RMSE:  0.287507686753\n",
        "4880"
       ]
      },
      {
       "output_type": "stream",
       "stream": "stdout",
       "text": [
        "\n",
        "train RMSE:  0.235845138823\n",
        "test RMSE:  0.287464975687\n",
        "4890"
       ]
      },
      {
       "output_type": "stream",
       "stream": "stdout",
       "text": [
        "\n",
        "train RMSE:  0.235842143975\n",
        "test RMSE:  0.287422437845\n",
        "4900"
       ]
      },
      {
       "output_type": "stream",
       "stream": "stdout",
       "text": [
        "\n",
        "train RMSE:  0.235839201556\n",
        "test RMSE:  0.287380072259\n",
        "4910"
       ]
      },
      {
       "output_type": "stream",
       "stream": "stdout",
       "text": [
        "\n",
        "train RMSE:  0.235836311065\n",
        "test RMSE:  0.287337877967\n",
        "4920"
       ]
      },
      {
       "output_type": "stream",
       "stream": "stdout",
       "text": [
        "\n",
        "train RMSE:  0.235833472005\n",
        "test RMSE:  0.287295854015\n",
        "4930"
       ]
      },
      {
       "output_type": "stream",
       "stream": "stdout",
       "text": [
        "\n",
        "train RMSE:  0.235830683887\n",
        "test RMSE:  0.287253999458\n",
        "4940"
       ]
      },
      {
       "output_type": "stream",
       "stream": "stdout",
       "text": [
        "\n",
        "train RMSE:  0.235827946226\n",
        "test RMSE:  0.287212313354\n",
        "4950"
       ]
      },
      {
       "output_type": "stream",
       "stream": "stdout",
       "text": [
        "\n",
        "train RMSE:  0.23582525854\n",
        "test RMSE:  0.287170794772\n",
        "4960"
       ]
      },
      {
       "output_type": "stream",
       "stream": "stdout",
       "text": [
        "\n",
        "train RMSE:  0.235822620354\n",
        "test RMSE:  0.287129442786\n",
        "4970"
       ]
      },
      {
       "output_type": "stream",
       "stream": "stdout",
       "text": [
        "\n",
        "train RMSE:  0.235820031198\n",
        "test RMSE:  0.287088256477\n",
        "4980"
       ]
      },
      {
       "output_type": "stream",
       "stream": "stdout",
       "text": [
        "\n",
        "train RMSE:  0.235817490605\n",
        "test RMSE:  0.287047234933\n",
        "4990"
       ]
      },
      {
       "output_type": "stream",
       "stream": "stdout",
       "text": [
        "\n",
        "train RMSE:  0.235814998115\n",
        "test RMSE:  0.287006377248\n",
        "5000"
       ]
      },
      {
       "output_type": "stream",
       "stream": "stdout",
       "text": [
        "\n",
        "train RMSE:  0.23581255327\n",
        "test RMSE:  0.286965682523\n",
        "5010"
       ]
      },
      {
       "output_type": "stream",
       "stream": "stdout",
       "text": [
        "\n",
        "train RMSE:  0.235810155619\n",
        "test RMSE:  0.286925149867\n",
        "5020"
       ]
      },
      {
       "output_type": "stream",
       "stream": "stdout",
       "text": [
        "\n",
        "train RMSE:  0.235807804714\n",
        "test RMSE:  0.286884778394\n",
        "5030"
       ]
      },
      {
       "output_type": "stream",
       "stream": "stdout",
       "text": [
        "\n",
        "train RMSE:  0.235805500112\n",
        "test RMSE:  0.286844567225\n",
        "5040"
       ]
      },
      {
       "output_type": "stream",
       "stream": "stdout",
       "text": [
        "\n",
        "train RMSE:  0.235803241376\n",
        "test RMSE:  0.286804515487\n",
        "5050"
       ]
      },
      {
       "output_type": "stream",
       "stream": "stdout",
       "text": [
        "\n",
        "train RMSE:  0.235801028069\n",
        "test RMSE:  0.286764622313\n",
        "5060"
       ]
      },
      {
       "output_type": "stream",
       "stream": "stdout",
       "text": [
        "\n",
        "train RMSE:  0.235798859764\n",
        "test RMSE:  0.286724886845\n",
        "5070"
       ]
      },
      {
       "output_type": "stream",
       "stream": "stdout",
       "text": [
        "\n",
        "train RMSE:  0.235796736035\n",
        "test RMSE:  0.286685308227\n",
        "5080"
       ]
      },
      {
       "output_type": "stream",
       "stream": "stdout",
       "text": [
        "\n",
        "train RMSE:  0.235794656459\n",
        "test RMSE:  0.286645885612\n",
        "5090"
       ]
      },
      {
       "output_type": "stream",
       "stream": "stdout",
       "text": [
        "\n",
        "train RMSE:  0.235792620622\n",
        "test RMSE:  0.286606618159\n",
        "5100"
       ]
      },
      {
       "output_type": "stream",
       "stream": "stdout",
       "text": [
        "\n",
        "train RMSE:  0.235790628108\n",
        "test RMSE:  0.286567505032\n",
        "5110"
       ]
      },
      {
       "output_type": "stream",
       "stream": "stdout",
       "text": [
        "\n",
        "train RMSE:  0.235788678511\n",
        "test RMSE:  0.286528545402\n",
        "5120"
       ]
      },
      {
       "output_type": "stream",
       "stream": "stdout",
       "text": [
        "\n",
        "train RMSE:  0.235786771425\n",
        "test RMSE:  0.286489738445\n",
        "5130"
       ]
      },
      {
       "output_type": "stream",
       "stream": "stdout",
       "text": [
        "\n",
        "train RMSE:  0.23578490645\n",
        "test RMSE:  0.286451083344\n",
        "5140"
       ]
      },
      {
       "output_type": "stream",
       "stream": "stdout",
       "text": [
        "\n",
        "train RMSE:  0.235783083189\n",
        "test RMSE:  0.286412579287\n",
        "5150"
       ]
      },
      {
       "output_type": "stream",
       "stream": "stdout",
       "text": [
        "\n",
        "train RMSE:  0.23578130125\n",
        "test RMSE:  0.286374225467\n",
        "5160"
       ]
      },
      {
       "output_type": "stream",
       "stream": "stdout",
       "text": [
        "\n",
        "train RMSE:  0.235779560243\n",
        "test RMSE:  0.286336021086\n",
        "5170"
       ]
      },
      {
       "output_type": "stream",
       "stream": "stdout",
       "text": [
        "\n",
        "train RMSE:  0.235777859783\n",
        "test RMSE:  0.286297965347\n",
        "5180"
       ]
      },
      {
       "output_type": "stream",
       "stream": "stdout",
       "text": [
        "\n",
        "train RMSE:  0.235776199491\n",
        "test RMSE:  0.286260057463\n",
        "5190"
       ]
      },
      {
       "output_type": "stream",
       "stream": "stdout",
       "text": [
        "\n",
        "train RMSE:  0.235774578987\n",
        "test RMSE:  0.286222296649\n",
        "5200"
       ]
      },
      {
       "output_type": "stream",
       "stream": "stdout",
       "text": [
        "\n",
        "train RMSE:  0.235772997899\n",
        "test RMSE:  0.286184682129\n",
        "5210"
       ]
      },
      {
       "output_type": "stream",
       "stream": "stdout",
       "text": [
        "\n",
        "train RMSE:  0.235771455857\n",
        "test RMSE:  0.28614721313\n",
        "5220"
       ]
      },
      {
       "output_type": "stream",
       "stream": "stdout",
       "text": [
        "\n",
        "train RMSE:  0.235769952493\n",
        "test RMSE:  0.286109888884\n",
        "5230"
       ]
      },
      {
       "output_type": "stream",
       "stream": "stdout",
       "text": [
        "\n",
        "train RMSE:  0.235768487446\n",
        "test RMSE:  0.286072708631\n",
        "5240"
       ]
      },
      {
       "output_type": "stream",
       "stream": "stdout",
       "text": [
        "\n",
        "train RMSE:  0.235767060356\n",
        "test RMSE:  0.286035671614\n",
        "5250"
       ]
      },
      {
       "output_type": "stream",
       "stream": "stdout",
       "text": [
        "\n",
        "train RMSE:  0.235765670868\n",
        "test RMSE:  0.285998777082\n",
        "5260"
       ]
      },
      {
       "output_type": "stream",
       "stream": "stdout",
       "text": [
        "\n",
        "train RMSE:  0.235764318628\n",
        "test RMSE:  0.28596202429\n",
        "5270"
       ]
      },
      {
       "output_type": "stream",
       "stream": "stdout",
       "text": [
        "\n",
        "train RMSE:  0.23576300329\n",
        "test RMSE:  0.285925412498\n",
        "5280"
       ]
      },
      {
       "output_type": "stream",
       "stream": "stdout",
       "text": [
        "\n",
        "train RMSE:  0.235761724506\n",
        "test RMSE:  0.285888940969\n",
        "5290"
       ]
      },
      {
       "output_type": "stream",
       "stream": "stdout",
       "text": [
        "\n",
        "train RMSE:  0.235760481936\n",
        "test RMSE:  0.285852608974\n",
        "5300"
       ]
      },
      {
       "output_type": "stream",
       "stream": "stdout",
       "text": [
        "\n",
        "train RMSE:  0.23575927524\n",
        "test RMSE:  0.285816415788\n",
        "5310"
       ]
      },
      {
       "output_type": "stream",
       "stream": "stdout",
       "text": [
        "\n",
        "train RMSE:  0.235758104083\n",
        "test RMSE:  0.285780360691\n",
        "5320"
       ]
      },
      {
       "output_type": "stream",
       "stream": "stdout",
       "text": [
        "\n",
        "train RMSE:  0.235756968133\n",
        "test RMSE:  0.285744442966\n",
        "5330"
       ]
      },
      {
       "output_type": "stream",
       "stream": "stdout",
       "text": [
        "\n",
        "train RMSE:  0.235755867062\n",
        "test RMSE:  0.285708661905\n",
        "5340"
       ]
      },
      {
       "output_type": "stream",
       "stream": "stdout",
       "text": [
        "\n",
        "train RMSE:  0.235754800542\n",
        "test RMSE:  0.285673016802\n",
        "5350"
       ]
      },
      {
       "output_type": "stream",
       "stream": "stdout",
       "text": [
        "\n",
        "train RMSE:  0.235753768253\n",
        "test RMSE:  0.285637506955\n",
        "5360"
       ]
      },
      {
       "output_type": "stream",
       "stream": "stdout",
       "text": [
        "\n",
        "train RMSE:  0.235752769874\n",
        "test RMSE:  0.285602131671\n",
        "5370"
       ]
      },
      {
       "output_type": "stream",
       "stream": "stdout",
       "text": [
        "\n",
        "train RMSE:  0.235751805089\n",
        "test RMSE:  0.285566890257\n",
        "5380"
       ]
      },
      {
       "output_type": "stream",
       "stream": "stdout",
       "text": [
        "\n",
        "train RMSE:  0.235750873585\n",
        "test RMSE:  0.285531782027\n",
        "5390"
       ]
      },
      {
       "output_type": "stream",
       "stream": "stdout",
       "text": [
        "\n",
        "train RMSE:  0.235749975051\n",
        "test RMSE:  0.2854968063\n",
        "5400"
       ]
      },
      {
       "output_type": "stream",
       "stream": "stdout",
       "text": [
        "\n",
        "train RMSE:  0.235749109181\n",
        "test RMSE:  0.285461962398\n",
        "5410"
       ]
      },
      {
       "output_type": "stream",
       "stream": "stdout",
       "text": [
        "\n",
        "train RMSE:  0.235748275669\n",
        "test RMSE:  0.28542724965\n",
        "5420"
       ]
      },
      {
       "output_type": "stream",
       "stream": "stdout",
       "text": [
        "\n",
        "train RMSE:  0.235747474215\n",
        "test RMSE:  0.285392667387\n",
        "5430"
       ]
      },
      {
       "output_type": "stream",
       "stream": "stdout",
       "text": [
        "\n",
        "train RMSE:  0.23574670452\n",
        "test RMSE:  0.285358214947\n",
        "5440"
       ]
      },
      {
       "output_type": "stream",
       "stream": "stdout",
       "text": [
        "\n",
        "train RMSE:  0.235745966288\n",
        "test RMSE:  0.28532389167\n",
        "5450"
       ]
      },
      {
       "output_type": "stream",
       "stream": "stdout",
       "text": [
        "\n",
        "train RMSE:  0.235745259226\n",
        "test RMSE:  0.285289696902\n",
        "5460"
       ]
      },
      {
       "output_type": "stream",
       "stream": "stdout",
       "text": [
        "\n",
        "train RMSE:  0.235744583045\n",
        "test RMSE:  0.285255629992\n",
        "5470"
       ]
      },
      {
       "output_type": "stream",
       "stream": "stdout",
       "text": [
        "\n",
        "train RMSE:  0.235743937457\n",
        "test RMSE:  0.285221690296\n",
        "5480"
       ]
      },
      {
       "output_type": "stream",
       "stream": "stdout",
       "text": [
        "\n",
        "train RMSE:  0.235743322177\n",
        "test RMSE:  0.285187877173\n",
        "5490"
       ]
      },
      {
       "output_type": "stream",
       "stream": "stdout",
       "text": [
        "\n",
        "train RMSE:  0.235742736925\n",
        "test RMSE:  0.285154189983\n",
        "5500"
       ]
      },
      {
       "output_type": "stream",
       "stream": "stdout",
       "text": [
        "\n",
        "train RMSE:  0.235742181419\n",
        "test RMSE:  0.285120628096\n",
        "5510"
       ]
      },
      {
       "output_type": "stream",
       "stream": "stdout",
       "text": [
        "\n",
        "train RMSE:  0.235741655385\n",
        "test RMSE:  0.285087190883\n",
        "5520"
       ]
      },
      {
       "output_type": "stream",
       "stream": "stdout",
       "text": [
        "\n",
        "train RMSE:  0.235741158548\n",
        "test RMSE:  0.285053877718\n",
        "5530"
       ]
      },
      {
       "output_type": "stream",
       "stream": "stdout",
       "text": [
        "\n",
        "train RMSE:  0.235740690637\n",
        "test RMSE:  0.285020687983\n",
        "5540"
       ]
      },
      {
       "output_type": "stream",
       "stream": "stdout",
       "text": [
        "\n",
        "train RMSE:  0.235740251384\n",
        "test RMSE:  0.28498762106\n",
        "5550"
       ]
      },
      {
       "output_type": "stream",
       "stream": "stdout",
       "text": [
        "\n",
        "train RMSE:  0.235739840521\n",
        "test RMSE:  0.284954676337\n",
        "5560"
       ]
      },
      {
       "output_type": "stream",
       "stream": "stdout",
       "text": [
        "\n",
        "train RMSE:  0.235739457786\n",
        "test RMSE:  0.284921853207\n",
        "5570"
       ]
      },
      {
       "output_type": "stream",
       "stream": "stdout",
       "text": [
        "\n",
        "train RMSE:  0.235739102918\n",
        "test RMSE:  0.284889151065\n",
        "5580"
       ]
      },
      {
       "output_type": "stream",
       "stream": "stdout",
       "text": [
        "\n",
        "train RMSE:  0.235738775657\n",
        "test RMSE:  0.284856569311\n",
        "5590"
       ]
      },
      {
       "output_type": "stream",
       "stream": "stdout",
       "text": [
        "\n",
        "train RMSE:  0.235738475747\n",
        "test RMSE:  0.28482410735\n",
        "5600"
       ]
      },
      {
       "output_type": "stream",
       "stream": "stdout",
       "text": [
        "\n",
        "train RMSE:  0.235738202935\n",
        "test RMSE:  0.284791764588\n",
        "5610"
       ]
      },
      {
       "output_type": "stream",
       "stream": "stdout",
       "text": [
        "\n",
        "train RMSE:  0.23573795697\n",
        "test RMSE:  0.284759540437\n",
        "5620"
       ]
      },
      {
       "output_type": "stream",
       "stream": "stdout",
       "text": [
        "\n",
        "train RMSE:  0.235737737601\n",
        "test RMSE:  0.284727434314\n",
        "5630"
       ]
      },
      {
       "output_type": "stream",
       "stream": "stdout",
       "text": [
        "\n",
        "train RMSE:  0.235737544583\n",
        "test RMSE:  0.284695445636\n",
        "5640"
       ]
      },
      {
       "output_type": "stream",
       "stream": "stdout",
       "text": [
        "\n",
        "train RMSE:  0.23573737767\n",
        "test RMSE:  0.284663573828\n",
        "5650"
       ]
      },
      {
       "output_type": "stream",
       "stream": "stdout",
       "text": [
        "\n",
        "train RMSE:  0.235737236622\n",
        "test RMSE:  0.284631818315\n",
        "5660"
       ]
      },
      {
       "output_type": "stream",
       "stream": "stdout",
       "text": [
        "\n",
        "train RMSE:  0.235737121197\n",
        "test RMSE:  0.284600178529\n",
        "5670"
       ]
      },
      {
       "output_type": "stream",
       "stream": "stdout",
       "text": [
        "\n",
        "train RMSE:  0.235737031158\n",
        "test RMSE:  0.284568653903\n",
        "5680"
       ]
      },
      {
       "output_type": "stream",
       "stream": "stdout",
       "text": [
        "\n",
        "train RMSE:  0.235736966271\n",
        "test RMSE:  0.284537243876\n",
        "5690"
       ]
      },
      {
       "output_type": "stream",
       "stream": "stdout",
       "text": [
        "\n",
        "train RMSE:  0.2357369263\n",
        "test RMSE:  0.284505947888\n",
        "5700"
       ]
      },
      {
       "output_type": "stream",
       "stream": "stdout",
       "text": [
        "\n",
        "train RMSE:  0.235736911017\n",
        "test RMSE:  0.284474765385\n",
        "[[ 0.11427945  0.01301418  0.41243058 ...,  0.17278549  0.18349629\n",
        "   0.31769708]\n",
        " [ 0.10232011  0.0536554   0.16147777 ...,  0.63116894  0.14150797\n",
        "  -0.00230003]\n",
        " [ 0.03661751  0.14719161  0.31320084 ...,  0.16503575  0.07011007\n",
        "   0.04429317]\n",
        " ..., \n",
        " [ 0.0648219   0.19169473  0.43908263 ...,  0.63750876  0.26203563\n",
        "   0.03167798]\n",
        " [ 0.01879209  0.00655174  0.14845276 ...,  0.40920952  0.50728054\n",
        "   0.22311345]\n",
        " [ 0.09775451  0.06343128  0.00900878 ...,  0.53880396  0.4119248\n",
        "   0.09834896]]"
       ]
      },
      {
       "output_type": "stream",
       "stream": "stdout",
       "text": [
        "\n"
       ]
      }
     ],
     "prompt_number": 18
    },
    {
     "cell_type": "code",
     "collapsed": false,
     "input": [
      "#Calc vars of matrices to save    \n",
      "Rdim = R.shape\n",
      "Rx, Ry = R.nonzero()\n",
      "Rdata = R[Rx,Ry]\n",
      "\n",
      "Tdim = T.shape\n",
      "Tx, Ty = T.nonzero()\n",
      "Tdata = T[Tx,Ty]\n",
      "\n",
      "Pdim = P.shape\n",
      "Px, Py = P.nonzero()\n",
      "Pdata = P[Px,Py]\n",
      "\n",
      "Qdim = Q.shape\n",
      "Qx, Qy = Q.nonzero()\n",
      "Qdata = Q[Qx,Qy]\n",
      "\n",
      "#year=2010\n",
      "file_extension = field+str(year)\n",
      "#Save Matrix info (dimension, nonzero x and y indices and data) for future  use\n",
      "np.savetxt(\"../data/\"+field+\"/R_dimension\"+file_extension+\".txt\",Rdim)\n",
      "np.savetxt(\"../data/\"+field+\"/R_x\"+file_extension+\".txt\", Rx)\n",
      "np.savetxt(\"../data/\"+field+\"/R_y\"+file_extension+\".txt\", Ry)\n",
      "np.savetxt(\"../data/\"+field+\"/R_data\"+file_extension+\".txt\", Rdata)\n",
      "\n",
      "#Save Matrix info (dimension, nonzero x and y indices and data) for future  use\n",
      "np.savetxt(\"../data/\"+field+\"/T_dimension\"+file_extension+\".txt\",Tdim)\n",
      "np.savetxt(\"../data/\"+field+\"/T_x\"+file_extension+\".txt\", Tx)\n",
      "np.savetxt(\"../data/\"+field+\"/T_y\"+file_extension+\".txt\", Ty)\n",
      "np.savetxt(\"../data/\"+field+\"/T_data\"+file_extension+\".txt\", Tdata)\n",
      "\n",
      "#Save Matrix info (dimension, nonzero x and y indices and data) for future  use\n",
      "np.savetxt(\"../data/\"+field+\"/P_dimension\"+file_extension+\".txt\",Pdim)\n",
      "np.savetxt(\"../data/\"+field+\"/P_x\"+file_extension+\".txt\", Px)\n",
      "np.savetxt(\"../data/\"+field+\"/P_y\"+file_extension+\".txt\", Py)\n",
      "np.savetxt(\"../data/\"+field+\"/P_data\"+file_extension+\".txt\", Pdata)\n",
      "\n",
      "#Save Matrix info (dimension, nonzero x and y indices and data) for future  use\n",
      "np.savetxt(\"../data/\"+field+\"/Q_dimension\"+file_extension+\".txt\",Qdim)\n",
      "np.savetxt(\"../data/\"+field+\"/Q_x\"+file_extension+\".txt\", Qx)\n",
      "np.savetxt(\"../data/\"+field+\"/Q_y\"+file_extension+\".txt\", Qy)\n",
      "np.savetxt(\"../data/\"+field+\"/Q_data\"+file_extension+\".txt\", Qdata)\n"
     ],
     "language": "python",
     "metadata": {},
     "outputs": [],
     "prompt_number": 19
    },
    {
     "cell_type": "code",
     "collapsed": false,
     "input": [
      "#save b_i, b_u and mu\n",
      "np.savetxt(\"../data/\"+field+\"/b_i\"+file_extension+\".txt\",bi)\n",
      "np.savetxt(\"../data/\"+field+\"/b_u\"+file_extension+\".txt\", bu)\n",
      "np.savetxt(\"../data/\"+field+\"/mu\"+file_extension+\".txt\", (mu,))"
     ],
     "language": "python",
     "metadata": {},
     "outputs": [],
     "prompt_number": 20
    },
    {
     "cell_type": "code",
     "collapsed": false,
     "input": [],
     "language": "python",
     "metadata": {},
     "outputs": []
    }
   ],
   "metadata": {}
  }
 ]
}